{
  "cells": [
    {
      "cell_type": "markdown",
      "metadata": {
        "id": "p-phcpg6x-g9"
      },
      "source": [
        "### Naive Bayes [Seminar]"
      ]
    },
    {
      "cell_type": "markdown",
      "metadata": {
        "id": "3Vxds3FDx-hC"
      },
      "source": [
        "**Note:**\n",
        "\n",
        "> Please do not delete comments or lines of code.\n",
        "\n",
        "> Please show your solution by writing the calculation procedure.\n",
        "\n",
        "```"
      ]
    },
    {
      "cell_type": "markdown",
      "metadata": {
        "id": "lspscCS1x-hC"
      },
      "source": [
        "1. At the lecture you studied the naive Bayesian algorithm, now it's time to do practice. The most common use of the naive Bayesov algorithm is the classification of messages as spam or not.\n",
        "\n",
        "You have a file `` \"sample_messages\" `` `with spam & non-spam (HAM) messages, download it to Pandas.Dataframe` `Data```` '."
      ]
    },
    {
      "cell_type": "code",
      "execution_count": null,
      "metadata": {
        "id": "aep48n-Lx-hD"
      },
      "outputs": [],
      "source": [
        "import os\n",
        "os.listdir()"
      ]
    },
    {
      "cell_type": "code",
      "execution_count": null,
      "metadata": {
        "id": "Z_hINRzlx-hF"
      },
      "outputs": [],
      "source": [
        "#Начало вашего кода\n",
        "\n",
        "import pandas as pd\n",
        "data = pd.read_table('sample_messages.txt', names = ['status', 'message'])\n",
        "\n",
        "#Конец вашего кода\n",
        "\n",
        "data.head()"
      ]
    },
    {
      "cell_type": "markdown",
      "metadata": {
        "id": "WJuVpky9x-hG"
      },
      "source": [
        "### Expected results:\n",
        "\n",
        "![image.png](attachment:image.png)"
      ]
    },
    {
      "cell_type": "markdown",
      "metadata": {
        "id": "xdPHPnI0x-hG"
      },
      "source": [
        "2. Perform a research analysis of the data `` Data```` ', and answer the following questions:\n",
        "\n",
        "* How many messages are there in the data? Assign the result of the variable `` all_Messages````.\n",
        "\n",
        "*How much is ** spam ** messages in the data? Assign the result of a variable `` spam messages````.\n",
        "\n",
        "*How much is ** HAM ** messages in the data? Assign the result of the variable `` HAM_MESSAGES``` '.\n",
        "\n",
        "*What is the probability that the message will be ** spam **? Assign the result of the variable `` p_spam``` '.\n",
        "\n",
        "*What is the likelihood that the message will be ** HAM **? Assign the result of the variable `` P_HAM``` '."
      ]
    },
    {
      "cell_type": "code",
      "execution_count": null,
      "metadata": {
        "id": "8GDzSemWx-hH"
      },
      "outputs": [],
      "source": [
        "#Начало вашего кода\n",
        "all_messages = data['message'].count()\n",
        "spam_messages = data[data['status'] == 'spam']['status'].count()\n",
        "ham_messages = data[data['status'] == 'ham']['status'].count()\n",
        "p_spam = spam_messages / all_messages\n",
        "p_ham = ham_messages / all_messages\n",
        "#Конец вашего кода"
      ]
    },
    {
      "cell_type": "code",
      "execution_count": null,
      "metadata": {
        "id": "jvRnUXCwx-hH"
      },
      "outputs": [],
      "source": [
        "print(f\"всего сообщений: {all_messages}\")\n",
        "print(f\"всего spam сообщений: {spam_messages}\")\n",
        "print(f\"всего ham сообщений: {ham_messages}\")\n",
        "print(f\"вероятность того, что сообщение будет spam: {p_spam*100:.2f}%\")\n",
        "print(f\"вероятность того, что сообщение будет ham: {p_ham*100:.2f}%\")"
      ]
    },
    {
      "cell_type": "markdown",
      "metadata": {
        "id": "5SXHVLY9x-hI"
      },
      "source": [
        "### Expected results:\n",
        "\n",
        "```\n",
        "всего сообщений: 20\n",
        "всего spam сообщений: 8\n",
        "всего ham сообщений: 12\n",
        "вероятность того, что сообщение будет spam: 40.00%\n",
        "вероятность того, что сообщение будет ham: 60.00%\n",
        "```"
      ]
    },
    {
      "cell_type": "markdown",
      "metadata": {
        "id": "LyuyHVY7x-hI"
      },
      "source": [
        "3. You may encounter the problem that messages have a different format and contain punctuation marks (which we can ignore). You must clean the data in this task."
      ]
    },
    {
      "cell_type": "code",
      "execution_count": null,
      "metadata": {
        "id": "DrGfQ9Xux-hI"
      },
      "outputs": [],
      "source": [
        "import re\n",
        "clean_data = data.copy()\n",
        "#Начало вашего кода\n",
        "clean_data['message'] = clean_data['message'].apply(\n",
        "    lambda x: re.sub(r'[^\\w\\s]', '', str(x)).lower().strip()\n",
        ")\n",
        "#Конец вашего кода\n",
        "for i in range(len(clean_data)):\n",
        "    print(f\"{i}\\t{clean_data['message'][i]}\")"
      ]
    },
    {
      "cell_type": "markdown",
      "metadata": {
        "id": "uTF3R_wjx-hI"
      },
      "source": [
        "### Expected results:\n",
        "\n",
        "```\n",
        "0\tgo until jurong point  crazy   available only in bugis n great world la e buffet    cine there got amore wat\n",
        "1\tok lar    joking wif u oni\n",
        "2\tfree entry in 2 a wkly comp to win fa cup final tkts 21st may 2005  text fa to 87121 to receive entry question std txt rate t c s apply 08452810075over18 s\n",
        "3\tu dun say so early hor    u c already then say\n",
        "4\tnah i don t think he goes to usf  he lives around here though\n",
        "5\tfreemsg hey there darling it s been 3 week s now and no word back  i d like some fun you up for it still  tb ok  xxx std chgs to send   1 50 to rcv\n",
        "6\teven my brother is not like to speak with me  they treat me like aids patent\n",
        "7\tas per your request  melle melle  oru minnaminunginte nurungu vettam   has been set as your callertune for all callers  press  9 to copy your friends callertune\n",
        "8\twinner   as a valued network customer you have been selected to receivea  900 prize reward  to claim call 09061701461  claim code kl341  valid 12 hours only\n",
        "9\thad your mobile 11 months or more  u r entitled to update to the latest colour mobiles with camera for free  call the mobile update co free on 08002986030\n",
        "10\ti m gonna be home soon and i don t want to talk about this stuff anymore tonight  k  i ve cried enough today\n",
        "11\tsix chances to win cash  from 100 to 20 000 pounds txt  csh11 and send to 87575  cost 150p day  6days  16  tsandcs apply reply hl 4 info\n",
        "12\turgent  you have won a 1 week free membership in our  100 000 prize jackpot  txt the word  claim to no  81010 t c www dbuk net lccltd pobox 4403ldnw1a7rw18\n",
        "13\ti ve been searching for the right words to thank you for this breather  i promise i wont take your help for granted and will fulfil my promise  you have been wonderful and a blessing at all times\n",
        "14\ti have a date on sunday with will\n",
        "15\txxxmobilemovieclub  to use your credit  click the wap link in the next txt message or click here   http   wap  xxxmobilemovieclub com n qjkgighjjgcbl\n",
        "16\toh k   i m watching here\n",
        "17\teh u remember how 2 spell his name    yes i did  he v naughty make until i v wet\n",
        "18\tfine if that s the way u feel  that s the way its gota b\n",
        "19\tengland v macedonia   dont miss the goals team news  txt ur national team to 87077 eg england to 87077 try wales  scotland 4txt ú1 20 poboxox36504w45wq 16\n",
        "```"
      ]
    },
    {
      "cell_type": "markdown",
      "metadata": {
        "id": "cMNXDwgAx-hJ"
      },
      "source": [
        "4. As can be seen from the above text, there are many consistent spaces between words, please implement the function `` delete_whitespaces () ``, which will replace all consistent gaps with one gap."
      ]
    },
    {
      "cell_type": "code",
      "execution_count": null,
      "metadata": {
        "id": "-EeEHV76x-hJ"
      },
      "outputs": [],
      "source": [
        "def delete_whitespaces(x):\n",
        "    #Начало вашего кода\n",
        "     return re.sub(r'\\s+', ' ', str(x)).strip()\n",
        "    #Конец вашего кода\n",
        "\n",
        "clean_data[\"message\"] = clean_data[\"message\"].apply(delete_whitespaces)\n",
        "\n",
        "for i in range(len(clean_data)):\n",
        "    print(f\"{i}\\t{clean_data['message'][i]}\")"
      ]
    },
    {
      "cell_type": "markdown",
      "metadata": {
        "id": "6a5gPYF3x-hK"
      },
      "source": [
        "### Expected results:\n",
        "\n",
        "```\n",
        "0\tgo until jurong point crazy available only in bugis n great world la e buffet cine there got amore wat\n",
        "1\tok lar joking wif u oni\n",
        "2\tfree entry in 2 a wkly comp to win fa cup final tkts 21st may 2005 text fa to 87121 to receive entry question std txt rate t c s apply 08452810075over18 s\n",
        "3\tu dun say so early hor u c already then say\n",
        "4\tnah i don t think he goes to usf he lives around here though\n",
        "5\tfreemsg hey there darling it s been 3 week s now and no word back i d like some fun you up for it still tb ok xxx std chgs to send 1 50 to rcv\n",
        "6\teven my brother is not like to speak with me they treat me like aids patent\n",
        "7\tas per your request melle melle oru minnaminunginte nurungu vettam has been set as your callertune for all callers press 9 to copy your friends callertune\n",
        "8\twinner as a valued network customer you have been selected to receivea 900 prize reward to claim call 09061701461 claim code kl341 valid 12 hours only\n",
        "9\thad your mobile 11 months or more u r entitled to update to the latest colour mobiles with camera for free call the mobile update co free on 08002986030\n",
        "10\ti m gonna be home soon and i don t want to talk about this stuff anymore tonight k i ve cried enough today\n",
        "11\tsix chances to win cash from 100 to 20 000 pounds txt csh11 and send to 87575 cost 150p day 6days 16 tsandcs apply reply hl 4 info\n",
        "12\turgent you have won a 1 week free membership in our 100 000 prize jackpot txt the word claim to no 81010 t c www dbuk net lccltd pobox 4403ldnw1a7rw18\n",
        "13\ti ve been searching for the right words to thank you for this breather i promise i wont take your help for granted and will fulfil my promise you have been wonderful and a blessing at all times\n",
        "14\ti have a date on sunday with will\n",
        "15\txxxmobilemovieclub to use your credit click the wap link in the next txt message or click here http wap xxxmobilemovieclub com n qjkgighjjgcbl\n",
        "16\toh k i m watching here\n",
        "17\teh u remember how 2 spell his name yes i did he v naughty make until i v wet\n",
        "18\tfine if that s the way u feel that s the way its gota b\n",
        "19\tengland v macedonia dont miss the goals team news txt ur national team to 87077 eg england to 87077 try wales scotland 4txt ú1 20 poboxox36504w45wq 16\n",
        "```"
      ]
    },
    {
      "cell_type": "markdown",
      "metadata": {
        "id": "CtkXqM5yx-hK"
      },
      "source": [
        "5. Implement the function `` get_vocab (Data, Condition = None) `` `, which accepts one positional argument` `DATA``` (PANDAS.DATAFRAME) and one nominal argument` `` control````. This function should return the dictionary of words and their quantities in `` `Data`` 'relative to the argument` `` condition````.\n",
        "\n",
        "Example:\n",
        "\n",
        "* When `` `Condition =\" HAM \"` ``, the function should return the dictionary of words and their number only in `` `spam`` 'messages.\n",
        "\n",
        "* When `` `Condition =\" Spam \"` ``, the function should return the dictionary of words and their number only in `` HAM`` 'messages.\n",
        "\n",
        "* When `` `Condition = None``` ', the function should return the dictionary of words and their number only in all messages."
      ]
    },
    {
      "cell_type": "code",
      "execution_count": null,
      "metadata": {
        "id": "_ObFeYZSx-hK"
      },
      "outputs": [],
      "source": [
        "def get_vocab(data, condition=None):\n",
        "    #Начало вашего кода\n",
        "    if condition is None:\n",
        "        filtered = data\n",
        "    else:\n",
        "        filtered = data[data['status'].str.lower() == condition.lower()]\n",
        "\n",
        "\n",
        "    all_words = []\n",
        "    for message in filtered['message']:\n",
        "\n",
        "        words = message.lower().split()\n",
        "        all_words.extend(words)\n",
        "\n",
        "    vocab_series = pd.Series(all_words).value_counts()\n",
        "    vocab = vocab_series.to_dict()\n",
        "\n",
        "    return vocab\n",
        "    #Конец вашего кода\n",
        "\n",
        "ham_vocab = get_vocab(clean_data,condition=\"ham\")\n",
        "spam_vocab = get_vocab(clean_data,condition=\"spam\")\n",
        "vocab = get_vocab(clean_data)\n",
        "\n",
        "print(ham_vocab,end=\"\\n\\n\")\n",
        "print(spam_vocab,end=\"\\n\\n\")\n",
        "print(vocab,end=\"\\n\\n\")"
      ]
    },
    {
      "cell_type": "markdown",
      "metadata": {
        "id": "Z16DN92Fx-hK"
      },
      "source": [
        "### Expected results:\n",
        "\n",
        "```\n",
        "{'go': 1, 'until': 2, 'jurong': 1, 'point': 1, 'crazy': 1, 'available': 1, 'only': 1, 'in': 1, 'bugis': 1, 'n': 1, 'great': 1, 'world': 1, 'la': 1, 'e': 1, 'buffet': 1, 'cine': 1, 'there': 1, 'got': 1, 'amore': 1, 'wat': 1, 'ok': 1, 'lar': 1, 'joking': 1, 'wif': 1, 'u': 5, 'oni': 1, 'dun': 1, 'say': 2, 'so': 1, 'early': 1, 'hor': 1, 'c': 1, 'already': 1, 'then': 1, 'nah': 1, 'i': 11, 'don': 2, 't': 2, 'think': 1, 'he': 3, 'goes': 1, 'to': 5, 'usf': 1, 'lives': 1, 'around': 1, 'here': 2, 'though': 1, 'even': 1, 'my': 2, 'brother': 1, 'is': 1, 'not': 1, 'like': 2, 'speak': 1, 'with': 2, 'me': 2, 'they': 1, 'treat': 1, 'aids': 1, 'patent': 1, 'as': 2, 'per': 1, 'your': 4, 'request': 1, 'melle': 2, 'oru': 1, 'minnaminunginte': 1, 'nurungu': 1, 'vettam': 1, 'has': 1, 'been': 3, 'set': 1, 'callertune': 2, 'for': 4, 'all': 2, 'callers': 1, 'press': 1, '9': 1, 'copy': 1, 'friends': 1, 'm': 2, 'gonna': 1, 'be': 1, 'home': 1, 'soon': 1, 'and': 3, 'want': 1, 'talk': 1, 'about': 1, 'this': 2, 'stuff': 1, 'anymore': 1, 'tonight': 1, 'k': 2, 've': 2, 'cried': 1, 'enough': 1, 'today': 1, 'searching': 1, 'the': 3, 'right': 1, 'words': 1, 'thank': 1, 'you': 2, 'breather': 1, 'promise': 2, 'wont': 1, 'take': 1, 'help': 1, 'granted': 1, 'will': 2, 'fulfil': 1, 'have': 2, 'wonderful': 1, 'a': 2, 'blessing': 1, 'at': 1, 'times': 1, 'date': 1, 'on': 1, 'sunday': 1, 'oh': 1, 'watching': 1, 'eh': 1, 'remember': 1, 'how': 1, '2': 1, 'spell': 1, 'his': 1, 'name': 1, 'yes': 1, 'did': 1, 'v': 2, 'naughty': 1, 'make': 1, 'wet': 1, 'fine': 1, 'if': 1, 'that': 2, 's': 2, 'way': 2, 'feel': 1, 'its': 1, 'gota': 1, 'b': 1}\n",
        "\n",
        "{'go': 1, 'until': 2, 'jurong': 1, 'point': 1, 'crazy': 1, 'available': 1, 'only': 1, 'in': 1, 'bugis': 1, 'n': 1, 'great': 1, 'world': 1, 'la': 1, 'e': 1, 'buffet': 1, 'cine': 1, 'there': 1, 'got': 1, 'amore': 1, 'wat': 1, 'ok': 1, 'lar': 1, 'joking': 1, 'wif': 1, 'u': 5, 'oni': 1, 'dun': 1, 'say': 2, 'so': 1, 'early': 1, 'hor': 1, 'c': 1, 'already': 1, 'then': 1, 'nah': 1, 'i': 11, 'don': 2, 't': 2, 'think': 1, 'he': 3, 'goes': 1, 'to': 5, 'usf': 1, 'lives': 1, 'around': 1, 'here': 2, 'though': 1, 'even': 1, 'my': 2, 'brother': 1, 'is': 1, 'not': 1, 'like': 2, 'speak': 1, 'with': 2, 'me': 2, 'they': 1, 'treat': 1, 'aids': 1, 'patent': 1, 'as': 2, 'per': 1, 'your': 4, 'request': 1, 'melle': 2, 'oru': 1, 'minnaminunginte': 1, 'nurungu': 1, 'vettam': 1, 'has': 1, 'been': 3, 'set': 1, 'callertune': 2, 'for': 4, 'all': 2, 'callers': 1, 'press': 1, '9': 1, 'copy': 1, 'friends': 1, 'm': 2, 'gonna': 1, 'be': 1, 'home': 1, 'soon': 1, 'and': 3, 'want': 1, 'talk': 1, 'about': 1, 'this': 2, 'stuff': 1, 'anymore': 1, 'tonight': 1, 'k': 2, 've': 2, 'cried': 1, 'enough': 1, 'today': 1, 'searching': 1, 'the': 3, 'right': 1, 'words': 1, 'thank': 1, 'you': 2, 'breather': 1, 'promise': 2, 'wont': 1, 'take': 1, 'help': 1, 'granted': 1, 'will': 2, 'fulfil': 1, 'have': 2, 'wonderful': 1, 'a': 2, 'blessing': 1, 'at': 1, 'times': 1, 'date': 1, 'on': 1, 'sunday': 1, 'oh': 1, 'watching': 1, 'eh': 1, 'remember': 1, 'how': 1, '2': 1, 'spell': 1, 'his': 1, 'name': 1, 'yes': 1, 'did': 1, 'v': 2, 'naughty': 1, 'make': 1, 'wet': 1, 'fine': 1, 'if': 1, 'that': 2, 's': 2, 'way': 2, 'feel': 1, 'its': 1, 'gota': 1, 'b': 1}\n",
        "\n",
        "{'go': 1, 'until': 2, 'jurong': 1, 'point': 1, 'crazy': 1, 'available': 1, 'only': 2, 'in': 4, 'bugis': 1, 'n': 2, 'great': 1, 'world': 1, 'la': 1, 'e': 1, 'buffet': 1, 'cine': 1, 'there': 2, 'got': 1, 'amore': 1, 'wat': 1, 'ok': 2, 'lar': 1, 'joking': 1, 'wif': 1, 'u': 6, 'oni': 1, 'free': 4, 'entry': 2, '2': 2, 'a': 5, 'wkly': 1, 'comp': 1, 'to': 21, 'win': 2, 'fa': 2, 'cup': 1, 'final': 1, 'tkts': 1, '21st': 1, 'may': 1, '2005': 1, 'text': 1, '87121': 1, 'receive': 1, 'question': 1, 'std': 2, 'txt': 5, 'rate': 1, 't': 4, 'c': 3, 's': 6, 'apply': 2, '08452810075over18': 1, 'dun': 1, 'say': 2, 'so': 1, 'early': 1, 'hor': 1, 'already': 1, 'then': 1, 'nah': 1, 'i': 12, 'don': 2, 'think': 1, 'he': 3, 'goes': 1, 'usf': 1, 'lives': 1, 'around': 1, 'here': 3, 'though': 1, 'freemsg': 1, 'hey': 1, 'darling': 1, 'it': 2, 'been': 5, '3': 1, 'week': 2, 'now': 1, 'and': 5, 'no': 2, 'word': 2, 'back': 1, 'd': 1, 'like': 3, 'some': 1, 'fun': 1, 'you': 5, 'up': 1, 'for': 6, 'still': 1, 'tb': 1, 'xxx': 1, 'chgs': 1, 'send': 2, '1': 2, '50': 1, 'rcv': 1, 'even': 1, 'my': 2, 'brother': 1, 'is': 1, 'not': 1, 'speak': 1, 'with': 3, 'me': 2, 'they': 1, 'treat': 1, 'aids': 1, 'patent': 1, 'as': 3, 'per': 1, 'your': 6, 'request': 1, 'melle': 2, 'oru': 1, 'minnaminunginte': 1, 'nurungu': 1, 'vettam': 1, 'has': 1, 'set': 1, 'callertune': 2, 'all': 2, 'callers': 1, 'press': 1, '9': 1, 'copy': 1, 'friends': 1, 'winner': 1, 'valued': 1, 'network': 1, 'customer': 1, 'have': 4, 'selected': 1, 'receivea': 1, '900': 1, 'prize': 2, 'reward': 1, 'claim': 3, 'call': 2, '09061701461': 1, 'code': 1, 'kl341': 1, 'valid': 1, '12': 1, 'hours': 1, 'had': 1, 'mobile': 2, '11': 1, 'months': 1, 'or': 2, 'more': 1, 'r': 1, 'entitled': 1, 'update': 2, 'the': 9, 'latest': 1, 'colour': 1, 'mobiles': 1, 'camera': 1, 'co': 1, 'on': 2, '08002986030': 1, 'm': 2, 'gonna': 1, 'be': 1, 'home': 1, 'soon': 1, 'want': 1, 'talk': 1, 'about': 1, 'this': 2, 'stuff': 1, 'anymore': 1, 'tonight': 1, 'k': 2, 've': 2, 'cried': 1, 'enough': 1, 'today': 1, 'six': 1, 'chances': 1, 'cash': 1, 'from': 1, '100': 2, '20': 2, '000': 2, 'pounds': 1, 'csh11': 1, '87575': 1, 'cost': 1, '150p': 1, 'day': 1, '6days': 1, '16': 2, 'tsandcs': 1, 'reply': 1, 'hl': 1, '4': 1, 'info': 1, 'urgent': 1, 'won': 1, 'membership': 1, 'our': 1, 'jackpot': 1, '81010': 1, 'www': 1, 'dbuk': 1, 'net': 1, 'lccltd': 1, 'pobox': 1, '4403ldnw1a7rw18': 1, 'searching': 1, 'right': 1, 'words': 1, 'thank': 1, 'breather': 1, 'promise': 2, 'wont': 1, 'take': 1, 'help': 1, 'granted': 1, 'will': 2, 'fulfil': 1, 'wonderful': 1, 'blessing': 1, 'at': 1, 'times': 1, 'date': 1, 'sunday': 1, 'xxxmobilemovieclub': 2, 'use': 1, 'credit': 1, 'click': 2, 'wap': 2, 'link': 1, 'next': 1, 'message': 1, 'http': 1, 'com': 1, 'qjkgighjjgcbl': 1, 'oh': 1, 'watching': 1, 'eh': 1, 'remember': 1, 'how': 1, 'spell': 1, 'his': 1, 'name': 1, 'yes': 1, 'did': 1, 'v': 3, 'naughty': 1, 'make': 1, 'wet': 1, 'fine': 1, 'if': 1, 'that': 2, 'way': 2, 'feel': 1, 'its': 1, 'gota': 1, 'b': 1, 'england': 2, 'macedonia': 1, 'dont': 1, 'miss': 1, 'goals': 1, 'team': 2, 'news': 1, 'ur': 1, 'national': 1, '87077': 2, 'eg': 1, 'try': 1, 'wales': 1, 'scotland': 1, '4txt': 1, 'ú1': 1, 'poboxox36504w45wq': 1}\n",
        "```"
      ]
    },
    {
      "cell_type": "markdown",
      "metadata": {
        "id": "Gz_EDrx7x-hL"
      },
      "source": [
        "6. Now the time has come to calculate the conditional probabilities for each word $ p (spam | (w_1, w_2, ..., w_n)) $ and $ p (Ham | (w_1, w_2, ..., w_n) $. Implement the function `` Calc_Prob (*arg) `` `, the first input argument is either` `spam_vocab````, or` `HAM_VOCAB`````, the second input should be` `` vOCAB``` `` `Message``` - a new message from the user."
      ]
    },
    {
      "cell_type": "code",
      "execution_count": null,
      "metadata": {
        "id": "LLz6N5-Mx-hL"
      },
      "outputs": [],
      "source": [
        "import re\n",
        "\n",
        "def calc_probs(vocab_dict, vocab, message, alpha=1):\n",
        "    #Начало вашего кода\n",
        "    total_words = sum(vocab_dict.values())\n",
        "    V = len(vocab)\n",
        "    words = re.findall(r'\\w+', message.lower())\n",
        "    prob = 1.0\n",
        "    for word in words:\n",
        "        word_count = vocab_dict.get(word, 0)\n",
        "        prob *= (word_count + alpha) / (total_words + alpha * V)\n",
        "    return prob\n",
        "    #Конец вашего кода\n",
        "\n",
        "message = \"WINNER WINNER WINNER WINNER WINNER\"\n",
        "\n",
        "p_ham_given_message = p_ham * calc_probs(ham_vocab, vocab, message, alpha=1)\n",
        "p_spam_given_message = p_spam * calc_probs(spam_vocab, vocab, message, alpha=1)\n",
        "\n",
        "print(p_ham_given_message)\n",
        "print(p_spam_given_message)\n",
        "\n",
        "condition = \"ham\"\n",
        "\n",
        "if p_spam_given_message > p_ham_given_message:\n",
        "    condition = \"spam\"\n",
        "print(condition)"
      ]
    },
    {
      "cell_type": "markdown",
      "metadata": {
        "id": "t1ix5QEpx-hM"
      },
      "source": [
        "### Expected results:\n",
        "\n",
        "```\n",
        "2.282525282024841e-14\n",
        "3.637978807091713e-13\n",
        "spam\n",
        "```"
      ]
    },
    {
      "cell_type": "markdown",
      "metadata": {
        "id": "rzYMXGnax-hM"
      },
      "source": [
        "7. Implement the function `` Filter_spam (Message, P_Spam, Spam_vocab, P_HAM, HAM_VOCAB, VOCAB, Alpha = 1) `` `, which will check if the incoming message is` `spam``` 'or` `HAM``````."
      ]
    },
    {
      "cell_type": "code",
      "execution_count": null,
      "metadata": {
        "id": "k3yiQJ9tx-hM"
      },
      "outputs": [],
      "source": [
        "\n",
        "import re\n",
        "\n",
        "def filter_spam(message, p_spam, spam_vocab, p_ham, ham_vocab, vocab, alpha=1):\n",
        "    #Начало вашего кода\n",
        "    def calc_probability(vocab_dict, vocab, message, alpha=1):\n",
        "        total_words = sum(vocab_dict.values())\n",
        "        V = len(vocab)\n",
        "        words = re.findall(r'\\w+', message.lower())\n",
        "\n",
        "        prob = 1.0\n",
        "        for word in words:\n",
        "            word_count = vocab_dict.get(word, 0)\n",
        "            prob *= (word_count + alpha) / (total_words + alpha * V)\n",
        "\n",
        "        return prob\n",
        "\n",
        "\n",
        "    p_message_given_spam = calc_probability(spam_vocab, vocab, message, alpha)\n",
        "    p_message_given_ham = calc_probability(ham_vocab, vocab, message, alpha)\n",
        "    p_spam_given_message = p_spam * p_message_given_spam\n",
        "    p_ham_given_message = p_ham * p_message_given_ham\n",
        "\n",
        "\n",
        "    if p_spam_given_message > p_ham_given_message:\n",
        "        return \"spam\"\n",
        "    else:\n",
        "        return \"ham\"\n",
        "    #Конец вашего кода\n",
        "\n",
        "\n",
        "\n",
        "print(filter_spam(\"Hello, how are you? \", p_spam, spam_vocab, p_ham, ham_vocab, vocab, alpha=1))\n",
        "print(filter_spam(\"Congrats! You won 1000000 \", p_spam, spam_vocab, p_ham, ham_vocab, vocab, alpha=1))\n",
        "print(filter_spam(\"Winner! Winner! Winner! \", p_spam, spam_vocab, p_ham, ham_vocab, vocab, alpha=1))\n",
        "print(filter_spam(\"Urgent! You gor free ticket!\", p_spam, spam_vocab, p_ham, ham_vocab, vocab, alpha=1))"
      ]
    },
    {
      "cell_type": "markdown",
      "metadata": {
        "id": "6If7QpSLx-hM"
      },
      "source": [
        "### Expected results:\n",
        "\n",
        "```\n",
        "ham\n",
        "spam\n",
        "spam\n",
        "spam\n",
        "```"
      ]
    },
    {
      "cell_type": "markdown",
      "metadata": {
        "id": "7T-zlb2Mx-hN"
      },
      "source": [
        "### Great job"
      ]
    }
  ],
  "metadata": {
    "kernelspec": {
      "display_name": "Python 3 (ipykernel)",
      "language": "python",
      "name": "python3"
    },
    "language_info": {
      "codemirror_mode": {
        "name": "ipython",
        "version": 3
      },
      "file_extension": ".py",
      "mimetype": "text/x-python",
      "name": "python",
      "nbconvert_exporter": "python",
      "pygments_lexer": "ipython3",
      "version": "3.12.4"
    },
    "colab": {
      "provenance": []
    }
  },
  "nbformat": 4,
  "nbformat_minor": 0
}