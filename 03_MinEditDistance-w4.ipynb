{
  "cells": [
    {
      "cell_type": "markdown",
      "metadata": {
        "id": "wt4sVtx0CqPh"
      },
      "source": [
        "# **Minimum Edit Distance 3**"
      ]
    },
    {
      "cell_type": "markdown",
      "metadata": {
        "id": "4ZpQZ813DSgW"
      },
      "source": [
        "# **Write up: Briefly Define your Algorithm**\n",
        "\n",
        "*Place your write up here as to how you implemented the minimum edit distance algorithm. Be as clear as you can, but don't over do it.*\n",
        "\n",
        "**Minimum Edit Distance**<br>\n",
        "I first make a matrix with the length of the target + 1 by the source + 1. I also initialize the matrix's first row and column by adding values from 0 to the length of the source + 1 for the row and the length of the target + 1 for the column. The algorithm starts at the index [1,1] wherein I check whether the character at the row index of the source matches the character at the column index of the target matches each other. If they do, then the I copy the value diagonally to the top left of it which becomes the new entry of the matrix, meaning it is a match. Otherwise, I get the values one index up + 1(insert), to the left + 1(delete), and diagonally to the top left + 2(mismatch) and choose which among the three is the minimum. Then the minimum will be the new entry in the matrix. I continue this as I traverse each index of the matrix from left to right and top to bottom. The last entry of the matrix will result to the minimum edit distance for the source and target strings.<br><br>\n",
        "**Backtracing**<br>\n",
        "For the back tracing portion, I had to traverse from the bottom right, to the top most index while choosing the path with the least weight. While in a loop, I choose between the value above, to the left, and diagonally to the top left whether which is the minimum. There are four conditions I have to check to know which minimum operation to use to help assign the alignments. I check for a mismatch, meaning the diagonal value is the minimum and is minus 2 of the current index, I check for a match wherein the diagonal value is the minimum and is the same as the current index, an insertion where the minium value is to the left of the current index, and lastly a delete operation which is one value above the current index. I have an operation string that keeps getting appendend with the minimum operation as I back trace throught the matrix. For the alignments, if I get a mismatch, I just copy both characters from the source and target's row and column index respectively. I do the same thing for a match. If I get an insertion, the target alignment gets a \"-\" character while the source alignment gets the column index of the original string. Lastly for a deletion, the source alignment gets a \"-\" character while the target alignment gets the character at the row index of the orginal string."
      ]
    },
    {
      "cell_type": "markdown",
      "metadata": {
        "id": "nnzCsnf1E4V1"
      },
      "source": [
        "# **Solution**\n",
        "\n",
        "*Kindly place your solution in the code block below. You may use multiple code blocks if you see the need to do so.*"
      ]
    },
    {
      "cell_type": "code",
      "execution_count": 2,
      "metadata": {
        "id": "7Ts7v7xmPP4a"
      },
      "outputs": [],
      "source": [
        "i = 4\n",
        "j = 4"
      ]
    },
    {
      "cell_type": "code",
      "execution_count": 3,
      "metadata": {
        "colab": {
          "base_uri": "https://localhost:8080/"
        },
        "id": "mVwLuONQPP4c",
        "outputId": "30ee74f1-3cb8-4327-e4a4-ad635f8e4b38"
      },
      "outputs": [
        {
          "output_type": "execute_result",
          "data": {
            "text/plain": [
              "True"
            ]
          },
          "metadata": {},
          "execution_count": 3
        }
      ],
      "source": [
        "source, target = \"naruto's son\", \"boruto's dad\"\n",
        "source[i - 1] == target[j - 1]"
      ]
    },
    {
      "cell_type": "code",
      "source": [
        "rows = len(source) + 1\n",
        "cols = len(target) + 1\n",
        "matrix = [[0 for _ in range(cols)] for _ in range(rows)]"
      ],
      "metadata": {
        "id": "Cz17xbXpq-sL"
      },
      "execution_count": 4,
      "outputs": []
    },
    {
      "cell_type": "code",
      "execution_count": 7,
      "metadata": {
        "id": "bt0braPhPP4d"
      },
      "outputs": [],
      "source": [
        "matrix[i][j] = matrix[i - 1][j - 1]\n",
        "\n",
        "for i in range(rows):\n",
        "    matrix[i][0] = i\n",
        "for j in range(cols):\n",
        "    matrix[0][j] = j"
      ]
    },
    {
      "cell_type": "code",
      "execution_count": 8,
      "metadata": {
        "colab": {
          "base_uri": "https://localhost:8080/"
        },
        "id": "9rCtw3R2PP4f",
        "outputId": "9d055046-6ae2-4819-d881-8101b84960d5"
      },
      "outputs": [
        {
          "output_type": "execute_result",
          "data": {
            "text/plain": [
              "[[0, 1, 2, 3, 4, 5, 6, 7, 8, 9, 10, 11, 12],\n",
              " [1, 0, 0, 0, 0, 0, 0, 0, 0, 0, 0, 0, 0],\n",
              " [2, 0, 0, 0, 0, 0, 0, 0, 0, 0, 0, 0, 0],\n",
              " [3, 0, 0, 0, 0, 0, 0, 0, 0, 0, 0, 0, 0],\n",
              " [4, 0, 0, 0, 0, 0, 0, 0, 0, 0, 0, 0, 0],\n",
              " [5, 0, 0, 0, 0, 0, 0, 0, 0, 0, 0, 0, 0],\n",
              " [6, 0, 0, 0, 0, 0, 0, 0, 0, 0, 0, 0, 0],\n",
              " [7, 0, 0, 0, 0, 0, 0, 0, 0, 0, 0, 0, 0],\n",
              " [8, 0, 0, 0, 0, 0, 0, 0, 0, 0, 0, 0, 0],\n",
              " [9, 0, 0, 0, 0, 0, 0, 0, 0, 0, 0, 0, 0],\n",
              " [10, 0, 0, 0, 0, 0, 0, 0, 0, 0, 0, 0, 0],\n",
              " [11, 0, 0, 0, 0, 0, 0, 0, 0, 0, 0, 0, 0],\n",
              " [12, 0, 0, 0, 0, 0, 0, 0, 0, 0, 0, 0, 0]]"
            ]
          },
          "metadata": {},
          "execution_count": 8
        }
      ],
      "source": [
        "matrix"
      ]
    },
    {
      "cell_type": "markdown",
      "metadata": {
        "id": "NiCIqQ1WPP4g"
      },
      "source": [
        "[[0, 1, 2, 3, 4, 5, 6, 7, 8, 9, 10, 11, 12],\n",
        "\n",
        " [1, 0, 0, 0, 0, 0, 0, 0, 0, 0, 0, 0, 0],\n",
        "\n",
        " [2, 0, 0, 0, 0, 0, 0, 0, 0, 0, 0, 0, 0],\n",
        "\n",
        " [3, 0, 0, 0, 0, 0, 0, 0, 0, 0, 0, 0, 0],\n",
        "\n",
        " [4, 0, 0, 0, 0, 0, 0, 0, 0, 0, 0, 0, 0],\n",
        "\n",
        " [5, 0, 0, 0, 0, 0, 0, 0, 0, 0, 0, 0, 0],\n",
        "\n",
        " [6, 0, 0, 0, 0, 0, 0, 0, 0, 0, 0, 0, 0],\n",
        "\n",
        " [7, 0, 0, 0, 0, 0, 0, 0, 0, 0, 0, 0, 0],\n",
        "\n",
        " [8, 0, 0, 0, 0, 0, 0, 0, 0, 0, 0, 0, 0],\n",
        "\n",
        " [9, 0, 0, 0, 0, 0, 0, 0, 0, 0, 0, 0, 0],\n",
        "\n",
        " [10, 0, 0, 0, 0, 0, 0, 0, 0, 0, 0, 0, 0],\n",
        "\n",
        " [11, 0, 0, 0, 0, 0, 0, 0, 0, 0, 0, 0, 0],\n",
        "\n",
        " [12, 0, 0, 0, 0, 0, 0, 0, 0, 0, 0, 0, 0]]"
      ]
    },
    {
      "cell_type": "code",
      "execution_count": 9,
      "metadata": {
        "id": "gfXU5Xc4E_ud"
      },
      "outputs": [],
      "source": [
        "def reverse(string):\n",
        "    string = string[::-1]\n",
        "    return string\n",
        "\n",
        "def getMinEditDistance(source, target):\n",
        "\n",
        "    # generate two dimensional array and initialize\n",
        "    matrix = [[0 for j in range(len(target) + 1)] for i in range(len(source) + 1)]\n",
        "\n",
        "    for i in range(len(source) + 1):\n",
        "        matrix[i][0] = i\n",
        "\n",
        "    for j in range(len(target) + 1):\n",
        "        matrix[0][j] = j\n",
        "\n",
        "    for i in range(1, len(source) + 1):\n",
        "        for j in range(1, len(target) + 1):\n",
        "            # your code\n",
        "            '''\n",
        "            if the both alphabets are equal, then there is no change and we get the number of step from previuos indexes\n",
        "            otherwise, there are three possible options, insert (1 step), delete (1 step) or mismatch (2 step)\n",
        "            at the end of iteration, we should return the min from 3 possible options.\n",
        "\n",
        "            result of the 3 step\n",
        "            '''\n",
        "            if source[i - 1] == target[j - 1]:\n",
        "                cost = 0  # Match\n",
        "            else:\n",
        "                cost = 2  # Mismatch\n",
        "\n",
        "            matrix[i][j] = min(matrix[i - 1][j] + 1,  # Deletion\n",
        "                               matrix[i][j - 1] + 1,  # Insertion\n",
        "                               matrix[i - 1][j - 1] + cost) # Match/Mismatch\n",
        "\n",
        "\n",
        "    print(\"Source: \" + source)\n",
        "    print(\"Target: \" + target)\n",
        "    print(\"-----\")\n",
        "    print(\"Distance: \", matrix[len(source)][len(target)])\n",
        "    print(\"Aligment:\")\n",
        "\n",
        "    # Backtracing\n",
        "    t_alignment, s_alignment = \"\", \"\"\n",
        "    t = [char for char in source]\n",
        "    s = [char for char in target]\n",
        "    row = len(source)\n",
        "    col = len(target)\n",
        "    trace = [[row, col]]\n",
        "    operations = \"\"\n",
        "\n",
        "    while True:\n",
        "        if row > 0 and col > 0 and source[row - 1] == target[col - 1]:\n",
        "            # Match\n",
        "            operations += \" \"\n",
        "            t_alignment += t[row - 1]\n",
        "            s_alignment += s[col - 1]\n",
        "            row -= 1\n",
        "            col -= 1\n",
        "        elif row > 0 and col > 0 and matrix[row][col] == matrix[row - 1][col - 1] + 2:\n",
        "            # Mismatch\n",
        "            operations += \"M\"\n",
        "            t_alignment += t[row - 1]\n",
        "            s_alignment += s[col - 1]\n",
        "            row -= 1\n",
        "            col -= 1\n",
        "        elif col > 0 and matrix[row][col] == matrix[row][col - 1] + 1:\n",
        "            # Insertion\n",
        "            t_alignment += \"-\"\n",
        "            s_alignment += s[col - 1]\n",
        "            operations += \"I\"\n",
        "            col -= 1\n",
        "        elif row > 0 and matrix[row][col] == matrix[row - 1][col] + 1:\n",
        "            # Deletion\n",
        "            t_alignment += t[row - 1]\n",
        "            s_alignment += \"-\"\n",
        "            operations += \"D\"\n",
        "            row -= 1\n",
        "        else:\n",
        "            break\n",
        "\n",
        "\n",
        "    print(reverse(t_alignment))\n",
        "    print(reverse(operations))\n",
        "    print(reverse(s_alignment))"
      ]
    },
    {
      "cell_type": "markdown",
      "metadata": {
        "id": "Z0g8gfIKukjx"
      },
      "source": [
        "#**Test Cases**\n",
        "\n",
        "**Legend**<br>\n",
        "I - Insert <br>\n",
        "D - Delete <br>\n",
        "M - Mismatch <br>\n",
        "\" \" - Match"
      ]
    },
    {
      "cell_type": "code",
      "execution_count": 10,
      "metadata": {
        "colab": {
          "base_uri": "https://localhost:8080/"
        },
        "id": "cMN-Q58qPP4i",
        "outputId": "95554143-05c2-4a5e-a132-8962652211d3"
      },
      "outputs": [
        {
          "output_type": "stream",
          "name": "stdout",
          "text": [
            "Source: naruto's son\n",
            "Target: boruto's dad\n",
            "-----\n",
            "Distance:  10\n",
            "Aligment:\n",
            "naruto's son\n",
            "MM       MMM\n",
            "boruto's dad\n"
          ]
        }
      ],
      "source": [
        "getMinEditDistance(\"naruto's son\", \"boruto's dad\")"
      ]
    },
    {
      "cell_type": "code",
      "execution_count": 11,
      "metadata": {
        "colab": {
          "base_uri": "https://localhost:8080/"
        },
        "id": "c_kSfG0FPP4j",
        "outputId": "036a15e4-abb9-43cd-f01f-d8363e48bb5c"
      },
      "outputs": [
        {
          "output_type": "stream",
          "name": "stdout",
          "text": [
            "Source: kumakain\n",
            "Target: kumain\n",
            "-----\n",
            "Distance:  2\n",
            "Aligment:\n",
            "kumakain\n",
            "   DD   \n",
            "kum--ain\n"
          ]
        }
      ],
      "source": [
        "getMinEditDistance(\"kumakain\", \"kumain\")"
      ]
    },
    {
      "cell_type": "code",
      "execution_count": 12,
      "metadata": {
        "colab": {
          "base_uri": "https://localhost:8080/"
        },
        "id": "Y149z6faPP4j",
        "outputId": "feebf3de-f95d-49f4-aa5e-524560abc3e1"
      },
      "outputs": [
        {
          "output_type": "stream",
          "name": "stdout",
          "text": [
            "Source: levinstien\n",
            "Target: levenshtein\n",
            "-----\n",
            "Distance:  5\n",
            "Aligment:\n",
            "levins-tie-n\n",
            "   M  I D I \n",
            "levensht-ein\n"
          ]
        }
      ],
      "source": [
        "getMinEditDistance(\"levinstien\", \"levenshtein\")"
      ]
    },
    {
      "cell_type": "code",
      "execution_count": 13,
      "metadata": {
        "colab": {
          "base_uri": "https://localhost:8080/"
        },
        "id": "ULxKdqBePP4k",
        "outputId": "76bf0f95-a67b-4251-8fae-520f81ba1c81"
      },
      "outputs": [
        {
          "output_type": "stream",
          "name": "stdout",
          "text": [
            "Source: leviathan\n",
            "Target: levenshtein\n",
            "-----\n",
            "Distance:  10\n",
            "Aligment:\n",
            "lev--iathan\n",
            "   IIMM MM \n",
            "levenshtein\n"
          ]
        }
      ],
      "source": [
        "getMinEditDistance(\"leviathan\", \"levenshtein\")"
      ]
    },
    {
      "cell_type": "code",
      "execution_count": 14,
      "metadata": {
        "colab": {
          "base_uri": "https://localhost:8080/"
        },
        "id": "MPLH7eBtPP4k",
        "outputId": "534a1540-a10f-4866-ccab-2a3265767a9a"
      },
      "outputs": [
        {
          "output_type": "stream",
          "name": "stdout",
          "text": [
            "Source: ATGCATCCCATGAC\n",
            "Target: TCTATATCCGT\n",
            "-----\n",
            "Distance:  11\n",
            "Aligment:\n",
            "ATGC-ATCCCAT--GAC\n",
            "D D I  DDD  II DM\n",
            "-T-CTAT---ATCCG-T\n"
          ]
        }
      ],
      "source": [
        "getMinEditDistance(\"ATGCATCCCATGAC\", \"TCTATATCCGT\")"
      ]
    },
    {
      "cell_type": "code",
      "execution_count": 15,
      "metadata": {
        "colab": {
          "base_uri": "https://localhost:8080/"
        },
        "id": "qdKNofyaPP4l",
        "outputId": "a7319406-69f4-4451-f49b-527dfc8b7f33"
      },
      "outputs": [
        {
          "output_type": "stream",
          "name": "stdout",
          "text": [
            "Source: AGGCTATCACCTGACCTCCAGGCCGATGCCCACCTGG\n",
            "Target: TAGCTATCACGACCGCGGTCGATTTGCCCGACGGTCC\n",
            "-----\n",
            "Distance:  18\n",
            "Aligment:\n",
            "-AGGCTATCACCTGACCTCCAGGCCGA--TGCCC-ACCTGG---\n",
            "I D       D D    DM D  M   II     I D D  III\n",
            "TA-GCTATCA-C-GACC-GC-GGTCGATTTGCCCGA-C-GGTCC\n"
          ]
        }
      ],
      "source": [
        "getMinEditDistance(\"AGGCTATCACCTGACCTCCAGGCCGATGCCCACCTGG\", \"TAGCTATCACGACCGCGGTCGATTTGCCCGACGGTCC\")"
      ]
    },
    {
      "cell_type": "markdown",
      "metadata": {
        "id": "U5zE4IiFPP4l"
      },
      "source": [
        "### Your tasks-1:\n",
        "\n",
        "Run the function getMinEditDistance(source, target) on the following test cases:\n",
        "\n",
        "* \"kitten\" → \"sitting\"\n",
        "\n",
        "* \"flaw\" → \"lawn\"\n",
        "\n",
        "* \"intention\" → \"execution\"\n",
        "\n",
        "Write down:\n",
        "\n",
        "* the edit distance,\n",
        "\n",
        "* the sequence of operations (Insertion I, Deletion D, Mismatch M),\n",
        "\n",
        "* and the final alignment printed."
      ]
    },
    {
      "cell_type": "markdown",
      "metadata": {
        "id": "0AVSEy0_PP4m"
      },
      "source": [
        "### Your tasks-2:\n",
        "Extend the algorithm:\n",
        "Modify the function so that:\n",
        "\n",
        "Insertion = 1\n",
        "\n",
        "Deletion = 1\n",
        "\n",
        "Substitution = 1\n",
        "\n",
        "(Bonus) Transposition of two adjacent characters = 1\n",
        "\n",
        "Test your new algorithm on:\n",
        "\n",
        "\"abcd\" → \"acbd\""
      ]
    },
    {
      "cell_type": "code",
      "execution_count": 20,
      "metadata": {
        "colab": {
          "base_uri": "https://localhost:8080/"
        },
        "id": "Th1hJFmsPP4m",
        "outputId": "b5453a2a-c5b0-4526-9be8-09f66a15075d"
      },
      "outputs": [
        {
          "output_type": "stream",
          "name": "stdout",
          "text": [
            "Source: kitten\n",
            "Target: sitting\n",
            "-----\n",
            "Distance:  5\n",
            "Aligment:\n",
            "kitten-\n",
            "M   M I\n",
            "sitting\n"
          ]
        }
      ],
      "source": [
        "\n",
        "getMinEditDistance(\"kitten\", \"sitting\")"
      ]
    },
    {
      "cell_type": "code",
      "source": [
        "getMinEditDistance(\"flaw\", \"lawn\")"
      ],
      "metadata": {
        "colab": {
          "base_uri": "https://localhost:8080/"
        },
        "id": "yMl34ksysx8M",
        "outputId": "f91e8acc-0f6f-4d42-845d-f29836065f41"
      },
      "execution_count": 21,
      "outputs": [
        {
          "output_type": "stream",
          "name": "stdout",
          "text": [
            "Source: flaw\n",
            "Target: lawn\n",
            "-----\n",
            "Distance:  2\n",
            "Aligment:\n",
            "flaw-\n",
            "D   I\n",
            "-lawn\n"
          ]
        }
      ]
    },
    {
      "cell_type": "code",
      "source": [
        "getMinEditDistance(\"intention\", \"execution\")"
      ],
      "metadata": {
        "colab": {
          "base_uri": "https://localhost:8080/"
        },
        "id": "HcsDnk6Xs56Q",
        "outputId": "227a95f1-fdb1-468b-e02e-1901f65ac742"
      },
      "execution_count": 19,
      "outputs": [
        {
          "output_type": "stream",
          "name": "stdout",
          "text": [
            "Source: intention\n",
            "Target: execution\n",
            "-----\n",
            "Distance:  8\n",
            "Aligment:\n",
            "inte-ntion\n",
            "DMM IM    \n",
            "-execution\n"
          ]
        }
      ]
    },
    {
      "cell_type": "code",
      "source": [
        "def extended_levenshtein_distance(str1, str2):\n",
        "\n",
        "    m, n = len(str1), len(str2)\n",
        "\n",
        "\n",
        "    dp = [[0] * (n + 1) for _ in range(m + 1)]\n",
        "\n",
        "\n",
        "    for i in range(m + 1):\n",
        "        dp[i][0] = i\n",
        "    for j in range(n + 1):\n",
        "        dp[0][j] = j\n",
        "\n",
        "\n",
        "    for i in range(1, m + 1):\n",
        "        for j in range(1, n + 1):\n",
        "\n",
        "            if str1[i-1] == str2[j-1]:\n",
        "                cost = 0\n",
        "            else:\n",
        "                cost = 1\n",
        "\n",
        "            dp[i][j] = min(\n",
        "                dp[i-1][j] + 1,\n",
        "                dp[i][j-1] + 1,\n",
        "                dp[i-1][j-1] + cost\n",
        "            )\n",
        "\n",
        "\n",
        "            if (i > 1 and j > 1 and\n",
        "                str1[i-1] == str2[j-2] and\n",
        "                str1[i-2] == str2[j-1]):\n",
        "                dp[i][j] = min(dp[i][j], dp[i-2][j-2] + 1)\n",
        "\n",
        "    return dp[m][n]\n",
        "\n",
        "\n"
      ],
      "metadata": {
        "id": "x6Onh3QUuHOX"
      },
      "execution_count": 30,
      "outputs": []
    },
    {
      "cell_type": "code",
      "source": [
        "\n",
        "distance = extended_levenshtein_distance(\"abcd\", \"acbd\")\n",
        "\n",
        "print({distance} )\n"
      ],
      "metadata": {
        "colab": {
          "base_uri": "https://localhost:8080/"
        },
        "id": "Qtk8-qobuSD7",
        "outputId": "d43ddb80-0683-4580-b625-4554af3320a5"
      },
      "execution_count": 33,
      "outputs": [
        {
          "output_type": "stream",
          "name": "stdout",
          "text": [
            "{1}\n"
          ]
        }
      ]
    },
    {
      "cell_type": "code",
      "source": [
        "distance = extended_levenshtein_distance(\"abcdef\", \"acbdfe\")\n",
        "print({distance} )"
      ],
      "metadata": {
        "id": "_gq8cxajvZWx",
        "outputId": "24c8d626-78dc-462f-c5d0-18c3bf5a5782",
        "colab": {
          "base_uri": "https://localhost:8080/"
        }
      },
      "execution_count": 34,
      "outputs": [
        {
          "output_type": "stream",
          "name": "stdout",
          "text": [
            "{2}\n"
          ]
        }
      ]
    }
  ],
  "metadata": {
    "colab": {
      "provenance": []
    },
    "kernelspec": {
      "display_name": "Python 3 (ipykernel)",
      "language": "python",
      "name": "python3"
    },
    "language_info": {
      "codemirror_mode": {
        "name": "ipython",
        "version": 3
      },
      "file_extension": ".py",
      "mimetype": "text/x-python",
      "name": "python",
      "nbconvert_exporter": "python",
      "pygments_lexer": "ipython3",
      "version": "3.12.4"
    }
  },
  "nbformat": 4,
  "nbformat_minor": 0
}