{
  "cells": [
    {
      "cell_type": "markdown",
      "metadata": {
        "cellId": "k1gpzj4guo8e1riwj3om1k",
        "id": "Y4WKtovymi6n"
      },
      "source": [
        "### N-gram language models or how to write scientific papers (4 pts)\n",
        "\n",
        "We shall train our language model on a corpora of [ArXiv](http://arxiv.org/) articles and see if we can generate a new one!\n",
        "\n",
        "![img](https://media.npr.org/assets/img/2013/12/10/istock-18586699-monkey-computer_brick-16e5064d3378a14e0e4c2da08857efe03c04695e-s800-c85.jpg)\n",
        "\n",
        "_data by neelshah18 from [here](https://www.kaggle.com/neelshah18/arxivdataset/)_\n",
        "\n",
        "_Disclaimer: this has nothing to do with actual science. But it's fun, so who cares?!_"
      ]
    },
    {
      "cell_type": "code",
      "execution_count": 27,
      "metadata": {
        "cellId": "u8jdaiy68oib3jvr4k01",
        "id": "mCZmB-lRmi6p"
      },
      "outputs": [],
      "source": [
        "import numpy as np\n",
        "import pandas as pd\n",
        "import matplotlib.pyplot as plt\n",
        "%matplotlib inline"
      ]
    },
    {
      "cell_type": "code",
      "execution_count": 28,
      "metadata": {
        "cellId": "0c76vnyl3zui9yhtkodgrlf",
        "id": "wz0p60N5mi6p",
        "colab": {
          "base_uri": "https://localhost:8080/",
          "height": 819
        },
        "outputId": "a9b8f344-49a6-4410-a6e3-997ce4c6e7e6"
      },
      "outputs": [
        {
          "output_type": "stream",
          "name": "stdout",
          "text": [
            "--2025-10-31 18:11:47--  https://www.dropbox.com/s/99az9n1b57qkd9j/arxivData.json.tar.gz?dl=1\n",
            "Resolving www.dropbox.com (www.dropbox.com)... 162.125.80.18, 2620:100:6030:18::a27d:5012\n",
            "Connecting to www.dropbox.com (www.dropbox.com)|162.125.80.18|:443... connected.\n",
            "HTTP request sent, awaiting response... 302 Found\n",
            "Location: https://www.dropbox.com/scl/fi/0mulrothty5o8i8ud9gz2/arxivData.json.tar.gz?rlkey=n759u5qx2xpxxglmrl390vwvk&dl=1 [following]\n",
            "--2025-10-31 18:11:47--  https://www.dropbox.com/scl/fi/0mulrothty5o8i8ud9gz2/arxivData.json.tar.gz?rlkey=n759u5qx2xpxxglmrl390vwvk&dl=1\n",
            "Reusing existing connection to www.dropbox.com:443.\n",
            "HTTP request sent, awaiting response... 302 Found\n",
            "Location: https://ucbd37f1d38cef87e6f824de762b.dl.dropboxusercontent.com/cd/0/inline/C0RiTp2-I_up6QcgBxa_Ht6bGLQGWiug-CoIuu7wL0t2yxqn7M3JAV846D9m90enBsirmN6Ms17aqww2t5ZbEU12dmVScFsqtR2JRj7otCSNQ9dLPfaOfl9JNU8lEihE9jk/file?dl=1# [following]\n",
            "--2025-10-31 18:11:48--  https://ucbd37f1d38cef87e6f824de762b.dl.dropboxusercontent.com/cd/0/inline/C0RiTp2-I_up6QcgBxa_Ht6bGLQGWiug-CoIuu7wL0t2yxqn7M3JAV846D9m90enBsirmN6Ms17aqww2t5ZbEU12dmVScFsqtR2JRj7otCSNQ9dLPfaOfl9JNU8lEihE9jk/file?dl=1\n",
            "Resolving ucbd37f1d38cef87e6f824de762b.dl.dropboxusercontent.com (ucbd37f1d38cef87e6f824de762b.dl.dropboxusercontent.com)... 162.125.81.15, 2620:100:6030:15::a27d:500f\n",
            "Connecting to ucbd37f1d38cef87e6f824de762b.dl.dropboxusercontent.com (ucbd37f1d38cef87e6f824de762b.dl.dropboxusercontent.com)|162.125.81.15|:443... connected.\n",
            "HTTP request sent, awaiting response... 302 Found\n",
            "Location: /cd/0/inline2/C0R1l167lesq6vyBg5uMQ2iSX_jiPAvqihde8MymumDPnkY4drrqUgEsqXpCU1OAUnuCcgdqtLGFBgA-VParkzDK-0OP9zdOY13MEuYjJmnlKuqm-th434et8ZayLgOmPsXLwtVRIXqocWG8qBMlxBPikxwtI98Dv2oE8JZkltqJFpjSH_l9_ZKYsluwhpoE9QHDqtaSYBQJgUv7dkfCk-vV6S0tfdWRo_qPSvo4jprvIe1gZ7vaFu1YX1dQgaDy7BDvXBVLMs6VndCWFrYuoeOEPmFIRk1cznzyZRgnOM0e_vNsBLtMPjd2KqAVYK5GPyIWztOrmjiIGpz_v3flKaIwEzZuK_rPqQpX2dfdXIAwng/file?dl=1 [following]\n",
            "--2025-10-31 18:11:49--  https://ucbd37f1d38cef87e6f824de762b.dl.dropboxusercontent.com/cd/0/inline2/C0R1l167lesq6vyBg5uMQ2iSX_jiPAvqihde8MymumDPnkY4drrqUgEsqXpCU1OAUnuCcgdqtLGFBgA-VParkzDK-0OP9zdOY13MEuYjJmnlKuqm-th434et8ZayLgOmPsXLwtVRIXqocWG8qBMlxBPikxwtI98Dv2oE8JZkltqJFpjSH_l9_ZKYsluwhpoE9QHDqtaSYBQJgUv7dkfCk-vV6S0tfdWRo_qPSvo4jprvIe1gZ7vaFu1YX1dQgaDy7BDvXBVLMs6VndCWFrYuoeOEPmFIRk1cznzyZRgnOM0e_vNsBLtMPjd2KqAVYK5GPyIWztOrmjiIGpz_v3flKaIwEzZuK_rPqQpX2dfdXIAwng/file?dl=1\n",
            "Reusing existing connection to ucbd37f1d38cef87e6f824de762b.dl.dropboxusercontent.com:443.\n",
            "HTTP request sent, awaiting response... 200 OK\n",
            "Length: 18933283 (18M) [application/binary]\n",
            "Saving to: ‘arxivData.json.tar.gz’\n",
            "\n",
            "arxivData.json.tar. 100%[===================>]  18.06M  18.7MB/s    in 1.0s    \n",
            "\n",
            "2025-10-31 18:11:51 (18.7 MB/s) - ‘arxivData.json.tar.gz’ saved [18933283/18933283]\n",
            "\n",
            "arxivData.json\n"
          ]
        },
        {
          "output_type": "execute_result",
          "data": {
            "text/plain": [
              "                                                  author  day            id  \\\n",
              "26587  [{'name': 'Dapeng Luo'}, {'name': 'Zhipeng Zen...   12  1611.03968v4   \n",
              "37005  [{'name': 'Adrien Basso-Blandin'}, {'name': 'W...    3  1603.01488v1   \n",
              "39050  [{'name': 'Jaime Fernando Delgado Saa'}, {'nam...   27  1612.08642v1   \n",
              "29256  [{'name': 'Shervin Minaee'}, {'name': 'Yao Wan...   27  1708.09000v1   \n",
              "11212  [{'name': 'Bernhard Schölkopf'}, {'name': 'Kri...   27  1501.06794v1   \n",
              "\n",
              "                                                    link  month  \\\n",
              "26587  [{'rel': 'alternate', 'href': 'http://arxiv.or...     11   \n",
              "37005  [{'rel': 'related', 'href': 'http://dx.doi.org...      3   \n",
              "39050  [{'rel': 'alternate', 'href': 'http://arxiv.or...     12   \n",
              "29256  [{'rel': 'alternate', 'href': 'http://arxiv.or...      8   \n",
              "11212  [{'rel': 'alternate', 'href': 'http://arxiv.or...      1   \n",
              "\n",
              "                                                 summary  \\\n",
              "26587  One object class may show large variations due...   \n",
              "37005  The study of cellular signalling pathways and ...   \n",
              "39050  A brain-computer interface (BCI) is a system t...   \n",
              "29256  While diffusion MRI has been extremely promisi...   \n",
              "11212  We describe a method to perform functional ope...   \n",
              "\n",
              "                                                     tag  \\\n",
              "26587  [{'term': 'cs.CV', 'scheme': 'http://arxiv.org...   \n",
              "37005  [{'term': 'cs.AI', 'scheme': 'http://arxiv.org...   \n",
              "39050  [{'term': 'cs.CV', 'scheme': 'http://arxiv.org...   \n",
              "29256  [{'term': 'cs.CV', 'scheme': 'http://arxiv.org...   \n",
              "11212  [{'term': 'stat.ML', 'scheme': 'http://arxiv.o...   \n",
              "\n",
              "                                                   title  year  \n",
              "26587  Learning Scene-specific Object Detectors Based...  2016  \n",
              "37005  A knowledge representation meta-model for rule...  2016  \n",
              "39050  Bayesian Nonparametric Models for Synchronous ...  2016  \n",
              "29256  A Machine Learning Approach For Identifying Pa...  2017  \n",
              "11212  Computing Functions of Random Variables via Re...  2015  "
            ],
            "text/html": [
              "\n",
              "  <div id=\"df-a6522f24-1639-419e-b86b-b7cafdc35e10\" class=\"colab-df-container\">\n",
              "    <div>\n",
              "<style scoped>\n",
              "    .dataframe tbody tr th:only-of-type {\n",
              "        vertical-align: middle;\n",
              "    }\n",
              "\n",
              "    .dataframe tbody tr th {\n",
              "        vertical-align: top;\n",
              "    }\n",
              "\n",
              "    .dataframe thead th {\n",
              "        text-align: right;\n",
              "    }\n",
              "</style>\n",
              "<table border=\"1\" class=\"dataframe\">\n",
              "  <thead>\n",
              "    <tr style=\"text-align: right;\">\n",
              "      <th></th>\n",
              "      <th>author</th>\n",
              "      <th>day</th>\n",
              "      <th>id</th>\n",
              "      <th>link</th>\n",
              "      <th>month</th>\n",
              "      <th>summary</th>\n",
              "      <th>tag</th>\n",
              "      <th>title</th>\n",
              "      <th>year</th>\n",
              "    </tr>\n",
              "  </thead>\n",
              "  <tbody>\n",
              "    <tr>\n",
              "      <th>26587</th>\n",
              "      <td>[{'name': 'Dapeng Luo'}, {'name': 'Zhipeng Zen...</td>\n",
              "      <td>12</td>\n",
              "      <td>1611.03968v4</td>\n",
              "      <td>[{'rel': 'alternate', 'href': 'http://arxiv.or...</td>\n",
              "      <td>11</td>\n",
              "      <td>One object class may show large variations due...</td>\n",
              "      <td>[{'term': 'cs.CV', 'scheme': 'http://arxiv.org...</td>\n",
              "      <td>Learning Scene-specific Object Detectors Based...</td>\n",
              "      <td>2016</td>\n",
              "    </tr>\n",
              "    <tr>\n",
              "      <th>37005</th>\n",
              "      <td>[{'name': 'Adrien Basso-Blandin'}, {'name': 'W...</td>\n",
              "      <td>3</td>\n",
              "      <td>1603.01488v1</td>\n",
              "      <td>[{'rel': 'related', 'href': 'http://dx.doi.org...</td>\n",
              "      <td>3</td>\n",
              "      <td>The study of cellular signalling pathways and ...</td>\n",
              "      <td>[{'term': 'cs.AI', 'scheme': 'http://arxiv.org...</td>\n",
              "      <td>A knowledge representation meta-model for rule...</td>\n",
              "      <td>2016</td>\n",
              "    </tr>\n",
              "    <tr>\n",
              "      <th>39050</th>\n",
              "      <td>[{'name': 'Jaime Fernando Delgado Saa'}, {'nam...</td>\n",
              "      <td>27</td>\n",
              "      <td>1612.08642v1</td>\n",
              "      <td>[{'rel': 'alternate', 'href': 'http://arxiv.or...</td>\n",
              "      <td>12</td>\n",
              "      <td>A brain-computer interface (BCI) is a system t...</td>\n",
              "      <td>[{'term': 'cs.CV', 'scheme': 'http://arxiv.org...</td>\n",
              "      <td>Bayesian Nonparametric Models for Synchronous ...</td>\n",
              "      <td>2016</td>\n",
              "    </tr>\n",
              "    <tr>\n",
              "      <th>29256</th>\n",
              "      <td>[{'name': 'Shervin Minaee'}, {'name': 'Yao Wan...</td>\n",
              "      <td>27</td>\n",
              "      <td>1708.09000v1</td>\n",
              "      <td>[{'rel': 'alternate', 'href': 'http://arxiv.or...</td>\n",
              "      <td>8</td>\n",
              "      <td>While diffusion MRI has been extremely promisi...</td>\n",
              "      <td>[{'term': 'cs.CV', 'scheme': 'http://arxiv.org...</td>\n",
              "      <td>A Machine Learning Approach For Identifying Pa...</td>\n",
              "      <td>2017</td>\n",
              "    </tr>\n",
              "    <tr>\n",
              "      <th>11212</th>\n",
              "      <td>[{'name': 'Bernhard Schölkopf'}, {'name': 'Kri...</td>\n",
              "      <td>27</td>\n",
              "      <td>1501.06794v1</td>\n",
              "      <td>[{'rel': 'alternate', 'href': 'http://arxiv.or...</td>\n",
              "      <td>1</td>\n",
              "      <td>We describe a method to perform functional ope...</td>\n",
              "      <td>[{'term': 'stat.ML', 'scheme': 'http://arxiv.o...</td>\n",
              "      <td>Computing Functions of Random Variables via Re...</td>\n",
              "      <td>2015</td>\n",
              "    </tr>\n",
              "  </tbody>\n",
              "</table>\n",
              "</div>\n",
              "    <div class=\"colab-df-buttons\">\n",
              "\n",
              "  <div class=\"colab-df-container\">\n",
              "    <button class=\"colab-df-convert\" onclick=\"convertToInteractive('df-a6522f24-1639-419e-b86b-b7cafdc35e10')\"\n",
              "            title=\"Convert this dataframe to an interactive table.\"\n",
              "            style=\"display:none;\">\n",
              "\n",
              "  <svg xmlns=\"http://www.w3.org/2000/svg\" height=\"24px\" viewBox=\"0 -960 960 960\">\n",
              "    <path d=\"M120-120v-720h720v720H120Zm60-500h600v-160H180v160Zm220 220h160v-160H400v160Zm0 220h160v-160H400v160ZM180-400h160v-160H180v160Zm440 0h160v-160H620v160ZM180-180h160v-160H180v160Zm440 0h160v-160H620v160Z\"/>\n",
              "  </svg>\n",
              "    </button>\n",
              "\n",
              "  <style>\n",
              "    .colab-df-container {\n",
              "      display:flex;\n",
              "      gap: 12px;\n",
              "    }\n",
              "\n",
              "    .colab-df-convert {\n",
              "      background-color: #E8F0FE;\n",
              "      border: none;\n",
              "      border-radius: 50%;\n",
              "      cursor: pointer;\n",
              "      display: none;\n",
              "      fill: #1967D2;\n",
              "      height: 32px;\n",
              "      padding: 0 0 0 0;\n",
              "      width: 32px;\n",
              "    }\n",
              "\n",
              "    .colab-df-convert:hover {\n",
              "      background-color: #E2EBFA;\n",
              "      box-shadow: 0px 1px 2px rgba(60, 64, 67, 0.3), 0px 1px 3px 1px rgba(60, 64, 67, 0.15);\n",
              "      fill: #174EA6;\n",
              "    }\n",
              "\n",
              "    .colab-df-buttons div {\n",
              "      margin-bottom: 4px;\n",
              "    }\n",
              "\n",
              "    [theme=dark] .colab-df-convert {\n",
              "      background-color: #3B4455;\n",
              "      fill: #D2E3FC;\n",
              "    }\n",
              "\n",
              "    [theme=dark] .colab-df-convert:hover {\n",
              "      background-color: #434B5C;\n",
              "      box-shadow: 0px 1px 3px 1px rgba(0, 0, 0, 0.15);\n",
              "      filter: drop-shadow(0px 1px 2px rgba(0, 0, 0, 0.3));\n",
              "      fill: #FFFFFF;\n",
              "    }\n",
              "  </style>\n",
              "\n",
              "    <script>\n",
              "      const buttonEl =\n",
              "        document.querySelector('#df-a6522f24-1639-419e-b86b-b7cafdc35e10 button.colab-df-convert');\n",
              "      buttonEl.style.display =\n",
              "        google.colab.kernel.accessAllowed ? 'block' : 'none';\n",
              "\n",
              "      async function convertToInteractive(key) {\n",
              "        const element = document.querySelector('#df-a6522f24-1639-419e-b86b-b7cafdc35e10');\n",
              "        const dataTable =\n",
              "          await google.colab.kernel.invokeFunction('convertToInteractive',\n",
              "                                                    [key], {});\n",
              "        if (!dataTable) return;\n",
              "\n",
              "        const docLinkHtml = 'Like what you see? Visit the ' +\n",
              "          '<a target=\"_blank\" href=https://colab.research.google.com/notebooks/data_table.ipynb>data table notebook</a>'\n",
              "          + ' to learn more about interactive tables.';\n",
              "        element.innerHTML = '';\n",
              "        dataTable['output_type'] = 'display_data';\n",
              "        await google.colab.output.renderOutput(dataTable, element);\n",
              "        const docLink = document.createElement('div');\n",
              "        docLink.innerHTML = docLinkHtml;\n",
              "        element.appendChild(docLink);\n",
              "      }\n",
              "    </script>\n",
              "  </div>\n",
              "\n",
              "\n",
              "    <div id=\"df-ba0a9fb7-39dc-4c27-a678-de56901d33a8\">\n",
              "      <button class=\"colab-df-quickchart\" onclick=\"quickchart('df-ba0a9fb7-39dc-4c27-a678-de56901d33a8')\"\n",
              "                title=\"Suggest charts\"\n",
              "                style=\"display:none;\">\n",
              "\n",
              "<svg xmlns=\"http://www.w3.org/2000/svg\" height=\"24px\"viewBox=\"0 0 24 24\"\n",
              "     width=\"24px\">\n",
              "    <g>\n",
              "        <path d=\"M19 3H5c-1.1 0-2 .9-2 2v14c0 1.1.9 2 2 2h14c1.1 0 2-.9 2-2V5c0-1.1-.9-2-2-2zM9 17H7v-7h2v7zm4 0h-2V7h2v10zm4 0h-2v-4h2v4z\"/>\n",
              "    </g>\n",
              "</svg>\n",
              "      </button>\n",
              "\n",
              "<style>\n",
              "  .colab-df-quickchart {\n",
              "      --bg-color: #E8F0FE;\n",
              "      --fill-color: #1967D2;\n",
              "      --hover-bg-color: #E2EBFA;\n",
              "      --hover-fill-color: #174EA6;\n",
              "      --disabled-fill-color: #AAA;\n",
              "      --disabled-bg-color: #DDD;\n",
              "  }\n",
              "\n",
              "  [theme=dark] .colab-df-quickchart {\n",
              "      --bg-color: #3B4455;\n",
              "      --fill-color: #D2E3FC;\n",
              "      --hover-bg-color: #434B5C;\n",
              "      --hover-fill-color: #FFFFFF;\n",
              "      --disabled-bg-color: #3B4455;\n",
              "      --disabled-fill-color: #666;\n",
              "  }\n",
              "\n",
              "  .colab-df-quickchart {\n",
              "    background-color: var(--bg-color);\n",
              "    border: none;\n",
              "    border-radius: 50%;\n",
              "    cursor: pointer;\n",
              "    display: none;\n",
              "    fill: var(--fill-color);\n",
              "    height: 32px;\n",
              "    padding: 0;\n",
              "    width: 32px;\n",
              "  }\n",
              "\n",
              "  .colab-df-quickchart:hover {\n",
              "    background-color: var(--hover-bg-color);\n",
              "    box-shadow: 0 1px 2px rgba(60, 64, 67, 0.3), 0 1px 3px 1px rgba(60, 64, 67, 0.15);\n",
              "    fill: var(--button-hover-fill-color);\n",
              "  }\n",
              "\n",
              "  .colab-df-quickchart-complete:disabled,\n",
              "  .colab-df-quickchart-complete:disabled:hover {\n",
              "    background-color: var(--disabled-bg-color);\n",
              "    fill: var(--disabled-fill-color);\n",
              "    box-shadow: none;\n",
              "  }\n",
              "\n",
              "  .colab-df-spinner {\n",
              "    border: 2px solid var(--fill-color);\n",
              "    border-color: transparent;\n",
              "    border-bottom-color: var(--fill-color);\n",
              "    animation:\n",
              "      spin 1s steps(1) infinite;\n",
              "  }\n",
              "\n",
              "  @keyframes spin {\n",
              "    0% {\n",
              "      border-color: transparent;\n",
              "      border-bottom-color: var(--fill-color);\n",
              "      border-left-color: var(--fill-color);\n",
              "    }\n",
              "    20% {\n",
              "      border-color: transparent;\n",
              "      border-left-color: var(--fill-color);\n",
              "      border-top-color: var(--fill-color);\n",
              "    }\n",
              "    30% {\n",
              "      border-color: transparent;\n",
              "      border-left-color: var(--fill-color);\n",
              "      border-top-color: var(--fill-color);\n",
              "      border-right-color: var(--fill-color);\n",
              "    }\n",
              "    40% {\n",
              "      border-color: transparent;\n",
              "      border-right-color: var(--fill-color);\n",
              "      border-top-color: var(--fill-color);\n",
              "    }\n",
              "    60% {\n",
              "      border-color: transparent;\n",
              "      border-right-color: var(--fill-color);\n",
              "    }\n",
              "    80% {\n",
              "      border-color: transparent;\n",
              "      border-right-color: var(--fill-color);\n",
              "      border-bottom-color: var(--fill-color);\n",
              "    }\n",
              "    90% {\n",
              "      border-color: transparent;\n",
              "      border-bottom-color: var(--fill-color);\n",
              "    }\n",
              "  }\n",
              "</style>\n",
              "\n",
              "      <script>\n",
              "        async function quickchart(key) {\n",
              "          const quickchartButtonEl =\n",
              "            document.querySelector('#' + key + ' button');\n",
              "          quickchartButtonEl.disabled = true;  // To prevent multiple clicks.\n",
              "          quickchartButtonEl.classList.add('colab-df-spinner');\n",
              "          try {\n",
              "            const charts = await google.colab.kernel.invokeFunction(\n",
              "                'suggestCharts', [key], {});\n",
              "          } catch (error) {\n",
              "            console.error('Error during call to suggestCharts:', error);\n",
              "          }\n",
              "          quickchartButtonEl.classList.remove('colab-df-spinner');\n",
              "          quickchartButtonEl.classList.add('colab-df-quickchart-complete');\n",
              "        }\n",
              "        (() => {\n",
              "          let quickchartButtonEl =\n",
              "            document.querySelector('#df-ba0a9fb7-39dc-4c27-a678-de56901d33a8 button');\n",
              "          quickchartButtonEl.style.display =\n",
              "            google.colab.kernel.accessAllowed ? 'block' : 'none';\n",
              "        })();\n",
              "      </script>\n",
              "    </div>\n",
              "\n",
              "    </div>\n",
              "  </div>\n"
            ],
            "application/vnd.google.colaboratory.intrinsic+json": {
              "type": "dataframe",
              "summary": "{\n  \"name\": \"data\",\n  \"rows\": 5,\n  \"fields\": [\n    {\n      \"column\": \"author\",\n      \"properties\": {\n        \"dtype\": \"string\",\n        \"num_unique_values\": 5,\n        \"samples\": [\n          \"[{'name': 'Adrien Basso-Blandin'}, {'name': 'Walter Fontana'}, {'name': 'Russ Harmer'}]\",\n          \"[{'name': 'Bernhard Sch\\u00f6lkopf'}, {'name': 'Krikamol Muandet'}, {'name': 'Kenji Fukumizu'}, {'name': 'Jonas Peters'}]\",\n          \"[{'name': 'Jaime Fernando Delgado Saa'}, {'name': 'Mujdat Cetin'}]\"\n        ],\n        \"semantic_type\": \"\",\n        \"description\": \"\"\n      }\n    },\n    {\n      \"column\": \"day\",\n      \"properties\": {\n        \"dtype\": \"number\",\n        \"std\": 11,\n        \"min\": 3,\n        \"max\": 27,\n        \"num_unique_values\": 3,\n        \"samples\": [\n          12,\n          3,\n          27\n        ],\n        \"semantic_type\": \"\",\n        \"description\": \"\"\n      }\n    },\n    {\n      \"column\": \"id\",\n      \"properties\": {\n        \"dtype\": \"string\",\n        \"num_unique_values\": 5,\n        \"samples\": [\n          \"1603.01488v1\",\n          \"1501.06794v1\",\n          \"1612.08642v1\"\n        ],\n        \"semantic_type\": \"\",\n        \"description\": \"\"\n      }\n    },\n    {\n      \"column\": \"link\",\n      \"properties\": {\n        \"dtype\": \"string\",\n        \"num_unique_values\": 5,\n        \"samples\": [\n          \"[{'rel': 'related', 'href': 'http://dx.doi.org/10.4204/EPTCS.204.5', 'type': 'text/html', 'title': 'doi'}, {'rel': 'alternate', 'href': 'http://arxiv.org/abs/1603.01488v1', 'type': 'text/html'}, {'rel': 'related', 'href': 'http://arxiv.org/pdf/1603.01488v1', 'type': 'application/pdf', 'title': 'pdf'}]\",\n          \"[{'rel': 'alternate', 'href': 'http://arxiv.org/abs/1501.06794v1', 'type': 'text/html'}, {'rel': 'related', 'href': 'http://arxiv.org/pdf/1501.06794v1', 'type': 'application/pdf', 'title': 'pdf'}]\",\n          \"[{'rel': 'alternate', 'href': 'http://arxiv.org/abs/1612.08642v1', 'type': 'text/html'}, {'rel': 'related', 'href': 'http://arxiv.org/pdf/1612.08642v1', 'type': 'application/pdf', 'title': 'pdf'}]\"\n        ],\n        \"semantic_type\": \"\",\n        \"description\": \"\"\n      }\n    },\n    {\n      \"column\": \"month\",\n      \"properties\": {\n        \"dtype\": \"number\",\n        \"std\": 4,\n        \"min\": 1,\n        \"max\": 12,\n        \"num_unique_values\": 5,\n        \"samples\": [\n          3,\n          1,\n          12\n        ],\n        \"semantic_type\": \"\",\n        \"description\": \"\"\n      }\n    },\n    {\n      \"column\": \"summary\",\n      \"properties\": {\n        \"dtype\": \"string\",\n        \"num_unique_values\": 5,\n        \"samples\": [\n          \"The study of cellular signalling pathways and their deregulation in disease\\nstates, such as cancer, is a large and extremely complex task. Indeed, these\\nsystems involve many parts and processes but are studied piecewise and their\\nliteratures and data are consequently fragmented, distributed and sometimes--at\\nleast apparently--inconsistent. This makes it extremely difficult to build\\nsignificant explanatory models with the result that effects in these systems\\nthat are brought about by many interacting factors are poorly understood.\\n  The rule-based approach to modelling has shown some promise for the\\nrepresentation of the highly combinatorial systems typically found in\\nsignalling where many of the proteins are composed of multiple binding domains,\\ncapable of simultaneous interactions, and/or peptide motifs controlled by\\npost-translational modifications. However, the rule-based approach requires\\nhighly detailed information about the precise conditions for each and every\\ninteraction which is rarely available from any one single source. Rather, these\\nconditions must be painstakingly inferred and curated, by hand, from\\ninformation contained in many papers--each of which contains only part of the\\nstory.\\n  In this paper, we introduce a graph-based meta-model, attuned to the\\nrepresentation of cellular signalling networks, which aims to ease this massive\\ncognitive burden on the rule-based curation process. This meta-model is a\\ngeneralization of that used by Kappa and BNGL which allows for the flexible\\nrepresentation of knowledge at various levels of granularity. In particular, it\\nallows us to deal with information which has either too little, or too much,\\ndetail with respect to the strict rule-based meta-model. Our approach provides\\na basis for the gradual aggregation of fragmented biological knowledge\\nextracted from the literature into an instance of the meta-model from which we\\ncan define an automated translation into executable Kappa programs.\",\n          \"We describe a method to perform functional operations on probability\\ndistributions of random variables. The method uses reproducing kernel Hilbert\\nspace representations of probability distributions, and it is applicable to all\\noperations which can be applied to points drawn from the respective\\ndistributions. We refer to our approach as {\\\\em kernel probabilistic\\nprogramming}. We illustrate it on synthetic data, and show how it can be used\\nfor nonparametric structural equation models, with an application to causal\\ninference.\",\n          \"A brain-computer interface (BCI) is a system that aims for establishing a\\nnon-muscular communication path for subjects who had suffer from a\\nneurodegenerative disease. Many BCI systems make use of the phenomena of\\nevent-related synchronization and de-synchronization of brain waves as a main\\nfeature for classification of different cognitive tasks. However, the temporal\\ndynamics of the electroencephalographic (EEG) signals contain additional\\ninformation that can be incorporated into the inference engine in order to\\nimprove the performance of the BCIs. This information about the dynamics of the\\nsignals have been exploited previously in BCIs by means of generative and\\ndiscriminative methods. In particular, hidden Markov models (HMMs) have been\\nused in previous works. These methods have the disadvantage that the model\\nparameters such as the number of hidden states and the number of Gaussian\\nmixtures need to be fix \\\"a priori\\\". In this work, we propose a Bayesian\\nnonparametric model for brain signal classification that does not require \\\"a\\npriori\\\" selection of the number of hidden states and the number of Gaussian\\nmixtures of a HMM. The results show that the proposed model outperform other\\nmethods based on HMM as well as the winner algorithm of the BCI competition IV.\"\n        ],\n        \"semantic_type\": \"\",\n        \"description\": \"\"\n      }\n    },\n    {\n      \"column\": \"tag\",\n      \"properties\": {\n        \"dtype\": \"string\",\n        \"num_unique_values\": 4,\n        \"samples\": [\n          \"[{'term': 'cs.AI', 'scheme': 'http://arxiv.org/schemas/atom', 'label': None}, {'term': 'q-bio.MN', 'scheme': 'http://arxiv.org/schemas/atom', 'label': None}]\",\n          \"[{'term': 'stat.ML', 'scheme': 'http://arxiv.org/schemas/atom', 'label': None}, {'term': 'cs.DS', 'scheme': 'http://arxiv.org/schemas/atom', 'label': None}, {'term': 'cs.LG', 'scheme': 'http://arxiv.org/schemas/atom', 'label': None}, {'term': 'G.3; I.2.6; D.3.3', 'scheme': 'http://arxiv.org/schemas/atom', 'label': None}]\",\n          \"[{'term': 'cs.CV', 'scheme': 'http://arxiv.org/schemas/atom', 'label': None}]\"\n        ],\n        \"semantic_type\": \"\",\n        \"description\": \"\"\n      }\n    },\n    {\n      \"column\": \"title\",\n      \"properties\": {\n        \"dtype\": \"string\",\n        \"num_unique_values\": 5,\n        \"samples\": [\n          \"A knowledge representation meta-model for rule-based modelling of\\n  signalling networks\",\n          \"Computing Functions of Random Variables via Reproducing Kernel Hilbert\\n  Space Representations\",\n          \"Bayesian Nonparametric Models for Synchronous Brain-Computer Interfaces\"\n        ],\n        \"semantic_type\": \"\",\n        \"description\": \"\"\n      }\n    },\n    {\n      \"column\": \"year\",\n      \"properties\": {\n        \"dtype\": \"number\",\n        \"std\": 0,\n        \"min\": 2015,\n        \"max\": 2017,\n        \"num_unique_values\": 3,\n        \"samples\": [\n          2016,\n          2017,\n          2015\n        ],\n        \"semantic_type\": \"\",\n        \"description\": \"\"\n      }\n    }\n  ]\n}"
            }
          },
          "metadata": {},
          "execution_count": 28
        }
      ],
      "source": [
        "# Alternative manual download link: https://yadi.sk/d/_nGyU2IajjR9-w\n",
        "!wget \"https://www.dropbox.com/s/99az9n1b57qkd9j/arxivData.json.tar.gz?dl=1\" -O arxivData.json.tar.gz\n",
        "!tar -xvzf arxivData.json.tar.gz\n",
        "data = pd.read_json(\"./arxivData.json\")\n",
        "data.sample(n=5)"
      ]
    },
    {
      "cell_type": "code",
      "execution_count": 29,
      "metadata": {
        "cellId": "lbyqb5rx7j8jpo591r06ak",
        "id": "Btkt7tYAmi6q",
        "colab": {
          "base_uri": "https://localhost:8080/"
        },
        "outputId": "449e393a-4bf2-464e-eb79-12ee4b22f831"
      },
      "outputs": [
        {
          "output_type": "execute_result",
          "data": {
            "text/plain": [
              "['Differential Contrastive Divergence ; This paper has been retracted.',\n",
              " 'What Does Artificial Life Tell Us About Death? ; Short philosophical essay',\n",
              " 'P=NP ; We claim to resolve the P=?NP problem via a formal argument for P=NP.']"
            ]
          },
          "metadata": {},
          "execution_count": 29
        }
      ],
      "source": [
        "# assemble lines: concatenate title and description\n",
        "lines = data.apply(lambda row: row['title'] + ' ; ' + row['summary'].replace(\"\\n\", ' '), axis=1).tolist()\n",
        "\n",
        "sorted(lines, key=len)[:3]"
      ]
    },
    {
      "cell_type": "markdown",
      "metadata": {
        "cellId": "7u97m5s8ekl5zd5a43a1yc",
        "id": "dy15AQsMmi6q"
      },
      "source": [
        "### Tokenization\n",
        "\n",
        "You know the dril. The data is messy. Go clean the data. Use WordPunctTokenizer or something.\n"
      ]
    },
    {
      "cell_type": "code",
      "source": [
        "!pip install nltk"
      ],
      "metadata": {
        "colab": {
          "base_uri": "https://localhost:8080/"
        },
        "id": "YGqrKgvAwI1L",
        "outputId": "76d327e0-1dc5-4f29-f0a7-7d82121b3e11"
      },
      "execution_count": 30,
      "outputs": [
        {
          "output_type": "stream",
          "name": "stdout",
          "text": [
            "Requirement already satisfied: nltk in /usr/local/lib/python3.12/dist-packages (3.9.1)\n",
            "Requirement already satisfied: click in /usr/local/lib/python3.12/dist-packages (from nltk) (8.3.0)\n",
            "Requirement already satisfied: joblib in /usr/local/lib/python3.12/dist-packages (from nltk) (1.5.2)\n",
            "Requirement already satisfied: regex>=2021.8.3 in /usr/local/lib/python3.12/dist-packages (from nltk) (2024.11.6)\n",
            "Requirement already satisfied: tqdm in /usr/local/lib/python3.12/dist-packages (from nltk) (4.67.1)\n"
          ]
        }
      ]
    },
    {
      "cell_type": "code",
      "execution_count": 8,
      "metadata": {
        "cellId": "u8rvfk719iek97t3rarwr",
        "id": "XhdSWUIGmi6q"
      },
      "outputs": [],
      "source": [
        "# Task: convert lines (in-place) into strings of space-separated tokens. Import & use WordPunctTokenizer\n",
        "\n",
        "from nltk.tokenize import WordPunctTokenizer\n",
        "tokenizer = WordPunctTokenizer()\n",
        "lines = [' '.join(tokenizer.tokenize(line.lower())) for line in lines]"
      ]
    },
    {
      "cell_type": "code",
      "execution_count": 9,
      "metadata": {
        "cellId": "w88nddpp2k8edoeyyyjh0l",
        "id": "yzyeOVU_mi6q"
      },
      "outputs": [],
      "source": [
        "assert sorted(lines, key=len)[0] == \\\n",
        "    'differential contrastive divergence ; this paper has been retracted .'\n",
        "assert sorted(lines, key=len)[2] == \\\n",
        "    'p = np ; we claim to resolve the p =? np problem via a formal argument for p = np .'"
      ]
    },
    {
      "cell_type": "markdown",
      "metadata": {
        "cellId": "qb6h3hxmr095egzv8rlzul",
        "id": "0rL1aNOCmi6q"
      },
      "source": [
        "### N-Gram Language Model (1point)\n",
        "\n",
        "A language model is a probabilistic model that estimates text probability: the joint probability of all tokens $w_t$ in text $X$: $P(X) = P(w_1, \\dots, w_T)$.\n",
        "\n",
        "It can do so by following the chain rule:\n",
        "$$P(w_1, \\dots, w_T) = P(w_1)P(w_2 \\mid w_1)\\dots P(w_T \\mid w_1, \\dots, w_{T-1}).$$\n",
        "\n",
        "The problem with such approach is that the final term $P(w_T \\mid w_1, \\dots, w_{T-1})$ depends on $n-1$ previous words. This probability is impractical to estimate for long texts, e.g. $T = 1000$.\n",
        "\n",
        "One popular approximation is to assume that next word only depends on a finite amount of previous words:\n",
        "\n",
        "$$P(w_t \\mid w_1, \\dots, w_{t - 1}) = P(w_t \\mid w_{t - n + 1}, \\dots, w_{t - 1})$$\n",
        "\n",
        "Such model is called __n-gram language model__ where n is a parameter. For example, in 3-gram language model, each word only depends on 2 previous words.\n",
        "\n",
        "$$\n",
        "    P(w_1, \\dots, w_n) = \\prod_t P(w_t \\mid w_{t - n + 1}, \\dots, w_{t - 1}).\n",
        "$$\n",
        "\n",
        "You can also sometimes see such approximation under the name of _n-th order markov assumption_."
      ]
    },
    {
      "cell_type": "markdown",
      "metadata": {
        "cellId": "u68wydbiioqlp5gl96mhd",
        "id": "I8eHF0Wsmi6q"
      },
      "source": [
        "The first stage to building such a model is counting all word occurences given N-1 previous words"
      ]
    },
    {
      "cell_type": "code",
      "execution_count": 10,
      "metadata": {
        "cellId": "og84gjipnumsakhiiu9ap",
        "id": "MzFUxodJmi6q"
      },
      "outputs": [],
      "source": [
        "from tqdm import tqdm\n",
        "from collections import defaultdict, Counter\n",
        "\n",
        "# special tokens:\n",
        "# - `UNK` represents absent tokens,\n",
        "# - `EOS` is a special token after the end of sequence\n",
        "\n",
        "UNK, EOS = \"_UNK_\", \"_EOS_\"\n",
        "\n",
        "def count_ngrams(lines, n):\n",
        "    \"\"\"\n",
        "    Count how many times each word occured after (n - 1) previous words\n",
        "    :param lines: an iterable of strings with space-separated tokens\n",
        "    :returns: a dictionary { tuple(prefix_tokens): {next_token_1: count_1, next_token_2: count_2}}\n",
        "\n",
        "    When building counts, please consider the following two edge cases:\n",
        "    - if prefix is shorter than (n - 1) tokens, it should be padded with UNK. For n=3,\n",
        "      empty prefix: \"\" -> (UNK, UNK)\n",
        "      short prefix: \"the\" -> (UNK, the)\n",
        "      long prefix: \"the new approach\" -> (new, approach)\n",
        "    - you should add a special token, EOS, at the end of each sequence\n",
        "      \"... with deep neural networks .\" -> (..., with, deep, neural, networks, ., EOS)\n",
        "      count the probability of this token just like all others.\n",
        "    \"\"\"\n",
        "    counts = defaultdict(Counter)\n",
        "\n",
        "    for line in tqdm(lines):\n",
        "        tokens = line.split()\n",
        "        tokens.append(EOS)\n",
        "\n",
        "        for i in range(len(tokens)):\n",
        "            current_token = tokens[i]\n",
        "\n",
        "            if i < n - 1:\n",
        "                prefix = [UNK] * (n - 1 - i) + tokens[:i]\n",
        "            else:\n",
        "                prefix = tokens[i - (n - 1):i]\n",
        "\n",
        "            prefix_tuple = tuple(prefix)\n",
        "            counts[prefix_tuple][current_token] += 1\n",
        "\n",
        "    return counts"
      ]
    },
    {
      "cell_type": "code",
      "execution_count": 11,
      "metadata": {
        "cellId": "xyf2he6lak9mmqarl3nck",
        "id": "kR6ayRyVmi6r",
        "colab": {
          "base_uri": "https://localhost:8080/"
        },
        "outputId": "1cf0e118-31b0-4e16-bd51-1cef7953e89a"
      },
      "outputs": [
        {
          "output_type": "stream",
          "name": "stderr",
          "text": [
            "100%|██████████| 100/100 [00:00<00:00, 7571.77it/s]\n"
          ]
        }
      ],
      "source": [
        "# let's test it\n",
        "dummy_lines = sorted(lines, key=len)[:100]\n",
        "dummy_counts = count_ngrams(dummy_lines, n=3)\n",
        "assert set(map(len, dummy_counts.keys())) == {2}, \"please only count {n-1}-grams\"\n",
        "assert len(dummy_counts[('_UNK_', '_UNK_')]) == 78\n",
        "assert dummy_counts['_UNK_', 'a']['note'] == 3\n",
        "assert dummy_counts['p', '=']['np'] == 2\n",
        "assert dummy_counts['author', '.']['_EOS_'] == 1"
      ]
    },
    {
      "cell_type": "markdown",
      "metadata": {
        "cellId": "4j620npeqvj0k8ak8xqx8xk",
        "id": "UqW_tI2Nmi6r"
      },
      "source": [
        "Once we can count N-grams, we can build a probabilistic language model.\n",
        "The simplest way to compute probabilities is in proporiton to counts:\n",
        "\n",
        "$$ P(w_t | prefix) = { Count(prefix, w_t) \\over \\sum_{\\hat w} Count(prefix, \\hat w) } $$"
      ]
    },
    {
      "cell_type": "code",
      "execution_count": 12,
      "metadata": {
        "cellId": "c7cm76wmzlaa12bctznzei",
        "id": "i2pD4V9xmi6r"
      },
      "outputs": [],
      "source": [
        "class NGramLanguageModel:\n",
        "    def __init__(self, lines, n):\n",
        "        \"\"\"\n",
        "        Train a simple count-based language model:\n",
        "        compute probabilities P(w_t | prefix) given ngram counts\n",
        "\n",
        "        :param n: computes probability of next token given (n - 1) previous words\n",
        "        :param lines: an iterable of strings with space-separated tokens\n",
        "        \"\"\"\n",
        "        assert n >= 1\n",
        "        self.n = n\n",
        "\n",
        "        counts = count_ngrams(lines, self.n)\n",
        "        self.probs = defaultdict(Counter)\n",
        "\n",
        "        for prefix, next_tokens_count in counts.items():\n",
        "            total_count = sum(next_tokens_count.values())\n",
        "\n",
        "\n",
        "            for next_token, count in next_tokens_count.items():\n",
        "                self.probs[prefix][next_token] = count / total_count\n",
        "\n",
        "\n",
        "    def get_possible_next_tokens(self, prefix):\n",
        "        \"\"\"\n",
        "        :param prefix: string with space-separated prefix tokens\n",
        "        :returns: a dictionary {token : it's probability} for all tokens with positive probabilities\n",
        "        \"\"\"\n",
        "        prefix = prefix.split()\n",
        "        prefix = prefix[max(0, len(prefix) - self.n + 1):]\n",
        "        prefix = [ UNK ] * (self.n - 1 - len(prefix)) + prefix\n",
        "        return self.probs[tuple(prefix)]\n",
        "\n",
        "    def get_next_token_prob(self, prefix, next_token):\n",
        "        \"\"\"\n",
        "        :param prefix: string with space-separated prefix tokens\n",
        "        :param next_token: the next token to predict probability for\n",
        "        :returns: P(next_token|prefix) a single number, 0 <= P <= 1\n",
        "        \"\"\"\n",
        "        return self.get_possible_next_tokens(prefix).get(next_token, 0)"
      ]
    },
    {
      "cell_type": "markdown",
      "metadata": {
        "cellId": "0ftnn4nmuzrup6c0vvhb8q",
        "id": "pRUDgfA8mi6r"
      },
      "source": [
        "Let's test it!"
      ]
    },
    {
      "cell_type": "code",
      "execution_count": 13,
      "metadata": {
        "cellId": "a7zajcnvhqupvcrmacvkur",
        "id": "Vl-kvzPmmi6r",
        "colab": {
          "base_uri": "https://localhost:8080/"
        },
        "outputId": "69a79f7d-25f6-432b-a0c2-ccf49310d311"
      },
      "outputs": [
        {
          "output_type": "stream",
          "name": "stderr",
          "text": [
            "100%|██████████| 100/100 [00:00<00:00, 7190.52it/s]\n"
          ]
        }
      ],
      "source": [
        "dummy_lm = NGramLanguageModel(dummy_lines, n=3)\n",
        "\n",
        "p_initial = dummy_lm.get_possible_next_tokens('') # '' -> ['_UNK_', '_UNK_']\n",
        "assert np.allclose(p_initial['learning'], 0.02)\n",
        "assert np.allclose(p_initial['a'], 0.13)\n",
        "assert np.allclose(p_initial.get('meow', 0), 0)\n",
        "assert np.allclose(sum(p_initial.values()), 1)\n",
        "\n",
        "p_a = dummy_lm.get_possible_next_tokens('a') # '' -> ['_UNK_', 'a']\n",
        "assert np.allclose(p_a['machine'], 0.15384615)\n",
        "assert np.allclose(p_a['note'], 0.23076923)\n",
        "assert np.allclose(p_a.get('the', 0), 0)\n",
        "assert np.allclose(sum(p_a.values()), 1)\n",
        "\n",
        "assert np.allclose(dummy_lm.get_possible_next_tokens('a note')['on'], 1)\n",
        "assert dummy_lm.get_possible_next_tokens('a machine') == \\\n",
        "    dummy_lm.get_possible_next_tokens(\"there have always been ghosts in a machine\"), \\\n",
        "    \"your 3-gram model should only depend on 2 previous words\""
      ]
    },
    {
      "cell_type": "markdown",
      "metadata": {
        "cellId": "oh8r9a41kuk4r51wra9",
        "id": "TdQu6ZqVmi6r"
      },
      "source": [
        "Now that you've got a working n-gram language model, let's see what sequences it can generate. But first, let's train it on the whole dataset."
      ]
    },
    {
      "cell_type": "code",
      "execution_count": 14,
      "metadata": {
        "cellId": "f17xoejjppmooo2nopw4xo",
        "id": "fzD0eXjBmi6r",
        "colab": {
          "base_uri": "https://localhost:8080/"
        },
        "outputId": "e3482dd2-65d4-4e51-f9d3-fc42b9704406"
      },
      "outputs": [
        {
          "output_type": "stream",
          "name": "stderr",
          "text": [
            "100%|██████████| 41000/41000 [00:17<00:00, 2315.77it/s]\n"
          ]
        }
      ],
      "source": [
        "lm = NGramLanguageModel(lines, n=3)"
      ]
    },
    {
      "cell_type": "markdown",
      "metadata": {
        "cellId": "2kd9glwnkr470qc4bt7f1e",
        "id": "pY-_4aJ-mi6r"
      },
      "source": [
        "The process of generating sequences is... well, it's sequential. You maintain a list of tokens and iteratively add next token by sampling with probabilities.\n",
        "\n",
        "$ X = [] $\n",
        "\n",
        "__forever:__\n",
        "* $w_{next} \\sim P(w_{next} | X)$\n",
        "* $X = concat(X, w_{next})$\n",
        "\n",
        "\n",
        "Instead of sampling with probabilities, one can also try always taking most likely token, sampling among top-K most likely tokens or sampling with temperature. In the latter case (temperature), one samples from\n",
        "\n",
        "$$w_{next} \\sim {P(w_{next} | X) ^ {1 / \\tau} \\over \\sum_{\\hat w} P(\\hat w | X) ^ {1 / \\tau}}$$\n",
        "\n",
        "Where $\\tau > 0$ is model temperature. If $\\tau << 1$, more likely tokens will be sampled with even higher probability while less likely tokens will vanish."
      ]
    },
    {
      "cell_type": "code",
      "execution_count": 15,
      "metadata": {
        "cellId": "sgbatlm9vzb4z889fho7",
        "id": "9Bc8GF8Kmi6r"
      },
      "outputs": [],
      "source": [
        "def get_next_token(lm, prefix, temperature=1.0):\n",
        "    \"\"\"\n",
        "    return next token after prefix;\n",
        "    :param temperature: samples proportionally to lm probabilities ^ (1 / temperature)\n",
        "        if temperature == 0, always takes most likely token. Break ties arbitrarily.\n",
        "    \"\"\"\n",
        "    next_tokens_probs = lm.get_possible_next_tokens(prefix)\n",
        "\n",
        "    if not next_tokens_probs:\n",
        "        return EOS\n",
        "\n",
        "    tokens = list(next_tokens_probs.keys())\n",
        "    probabilities = list(next_tokens_probs.values())\n",
        "\n",
        "\n",
        "    if temperature == 0.0:\n",
        "        max_prob = max(probabilities)\n",
        "        best_tokens = [token for token, prob in next_tokens_probs.items() if prob == max_prob]\n",
        "        return best_tokens[0]\n",
        "\n",
        "\n",
        "    if temperature != 1.0:\n",
        "        probs_array = np.array(probabilities)\n",
        "        tempered_probs = np.power(probs_array, 1.0 / temperature)\n",
        "\n",
        "\n",
        "        tempered_probs = tempered_probs / np.sum(tempered_probs)\n",
        "        probabilities = tempered_probs.tolist()\n",
        "\n",
        "    return np.random.choice(tokens, p=probabilities)"
      ]
    },
    {
      "cell_type": "code",
      "execution_count": 16,
      "metadata": {
        "cellId": "98l40131wjtd5xbdm5b2nr",
        "id": "xoXoHuSlmi6r",
        "colab": {
          "base_uri": "https://localhost:8080/"
        },
        "outputId": "5e7f3582-3a3c-4c75-ae45-2c4e17a0025c"
      },
      "outputs": [
        {
          "output_type": "stream",
          "name": "stdout",
          "text": [
            "Looks nice!\n"
          ]
        }
      ],
      "source": [
        "from collections import Counter\n",
        "test_freqs = Counter([get_next_token(lm, 'there have') for _ in range(10000)])\n",
        "assert 250 < test_freqs['not'] < 450\n",
        "assert 8500 < test_freqs['been'] < 9500\n",
        "assert 1 < test_freqs['lately'] < 200\n",
        "\n",
        "test_freqs = Counter([get_next_token(lm, 'deep', temperature=1.0) for _ in range(10000)])\n",
        "assert 1500 < test_freqs['learning'] < 3000\n",
        "test_freqs = Counter([get_next_token(lm, 'deep', temperature=0.5) for _ in range(10000)])\n",
        "assert 8000 < test_freqs['learning'] < 9000\n",
        "test_freqs = Counter([get_next_token(lm, 'deep', temperature=0.0) for _ in range(10000)])\n",
        "assert test_freqs['learning'] == 10000\n",
        "\n",
        "print(\"Looks nice!\")"
      ]
    },
    {
      "cell_type": "markdown",
      "metadata": {
        "cellId": "ux4n8iq523n4s3ftrelhxj",
        "id": "1uS9qMQ5mi6r"
      },
      "source": [
        "Let's have fun with this model"
      ]
    },
    {
      "cell_type": "code",
      "execution_count": 17,
      "metadata": {
        "cellId": "1nnnycga61rijt6nd8zai",
        "id": "GiGqrpnxmi6s",
        "colab": {
          "base_uri": "https://localhost:8080/"
        },
        "outputId": "d6297664-72eb-49e3-ade8-538d1ed58dd8"
      },
      "outputs": [
        {
          "output_type": "stream",
          "name": "stdout",
          "text": [
            "machine learning include different tradeoffs when deciding whether there are three major operating systems ( such as artificial neural network ( cnn ) based intelligent learning systems require large scale pttf analysis , establishing a point in not only classification , object detection , we replace an expensive and not only a small amount of time series using euclidean trimmed - mean ( dncm ) model is learned concurrently to every other state - of - the - art consistently on indoor and outdoor scenes : open highway , open road , filtering that is purely algorithmic problem for markov random field\n"
          ]
        }
      ],
      "source": [
        "prefix = 'machine learning' # <- your ideas :)\n",
        "\n",
        "for i in range(100):\n",
        "    prefix += ' ' + get_next_token(lm, prefix)\n",
        "    if prefix.endswith(EOS) or len(lm.get_possible_next_tokens(prefix)) == 0:\n",
        "        break\n",
        "\n",
        "print(prefix)"
      ]
    },
    {
      "cell_type": "code",
      "execution_count": 18,
      "metadata": {
        "cellId": "pxyjsv3b7r8thdfxlgitl",
        "id": "YNxO8AEkmi6s",
        "colab": {
          "base_uri": "https://localhost:8080/"
        },
        "outputId": "352c02bf-e991-498f-8033-6b247b0343de"
      },
      "outputs": [
        {
          "output_type": "stream",
          "name": "stdout",
          "text": [
            "computer vision and natural language processing ( nlp ) tasks . _EOS_\n"
          ]
        }
      ],
      "source": [
        "prefix = 'computer vision' # <- more of your ideas\n",
        "\n",
        "for i in range(100):\n",
        "    prefix += ' ' + get_next_token(lm, prefix, temperature=0.5)\n",
        "    if prefix.endswith(EOS) or len(lm.get_possible_next_tokens(prefix)) == 0:\n",
        "        break\n",
        "\n",
        "print(prefix)"
      ]
    },
    {
      "cell_type": "markdown",
      "metadata": {
        "cellId": "2n90bscmzfko0qnctp7ysc",
        "id": "sEzYsAfOmi6s"
      },
      "source": [
        "__More in the homework:__ nucleus sampling, top-k sampling, beam search(not for the faint of heart)."
      ]
    },
    {
      "cell_type": "markdown",
      "metadata": {
        "cellId": "3gdmey7g8at5n5c5x4gayh",
        "id": "RhTGYM00mi6s"
      },
      "source": [
        "### Evaluating language models: perplexity (1point)\n",
        "\n",
        "Perplexity is a measure of how well your model approximates the true probability distribution behind the data. __Smaller perplexity = better model__.\n",
        "\n",
        "To compute perplexity on one sentence, use:\n",
        "$$\n",
        "    {\\mathbb{P}}(w_1 \\dots w_N) = P(w_1, \\dots, w_N)^{-\\frac1N} = \\left( \\prod_t P(w_t \\mid w_{t - n}, \\dots, w_{t - 1})\\right)^{-\\frac1N},\n",
        "$$\n",
        "\n",
        "\n",
        "On the corpora level, perplexity is a product of probabilities of all tokens in all sentences to the power of $1/N$, where $N$ is __total length (in tokens) of all sentences__ in corpora.\n",
        "\n",
        "This number can quickly get too small for float32/float64 precision, so we recommend you to first compute log-perplexity (from log-probabilities) and then take the exponent."
      ]
    },
    {
      "cell_type": "code",
      "execution_count": 19,
      "metadata": {
        "cellId": "5hp010xyzzb4vqewo1bhny",
        "id": "Ov5waQKQmi6s"
      },
      "outputs": [],
      "source": [
        "def perplexity(lm, lines, min_logprob=np.log(10 ** -50.)):\n",
        "    \"\"\"\n",
        "    :param lines: a list of strings with space-separated tokens\n",
        "    :param min_logprob: if log(P(w | ...)) is smaller than min_logprop, set it equal to min_logrob\n",
        "    :returns: corpora-level perplexity - a single scalar number from the formula above\n",
        "\n",
        "    Note: do not forget to compute P(w_first | empty) and P(eos | full_sequence)\n",
        "\n",
        "    PLEASE USE lm.get_next_token_prob and NOT lm.get_possible_next_tokens\n",
        "    \"\"\"\n",
        "    total_log_prob = 0.0\n",
        "    total_tokens = 0\n",
        "\n",
        "    for line in lines:\n",
        "\n",
        "        tokens = line.split()\n",
        "        tokens.append(EOS)\n",
        "\n",
        "\n",
        "        for i in range(len(tokens)):\n",
        "            current_token = tokens[i]\n",
        "\n",
        "\n",
        "            if i == 0:\n",
        "                prefix = \"\"\n",
        "            else:\n",
        "\n",
        "                prefix_tokens = tokens[:i]\n",
        "                prefix = \" \".join(prefix_tokens)\n",
        "\n",
        "\n",
        "            prob = lm.get_next_token_prob(prefix, current_token)\n",
        "\n",
        "\n",
        "            log_prob = min_logprob\n",
        "\n",
        "            if prob > 0:\n",
        "                log_prob = np.log(prob)\n",
        "\n",
        "                if log_prob < min_logprob:\n",
        "                    log_prob = min_logprob\n",
        "\n",
        "\n",
        "            total_log_prob += log_prob\n",
        "            total_tokens += 1\n",
        "\n",
        "\n",
        "    if total_tokens > 0:\n",
        "        avg_neg_log_prob = -total_log_prob / total_tokens\n",
        "        ppl = np.exp(avg_neg_log_prob)\n",
        "    else:\n",
        "        ppl = float('inf')\n",
        "\n",
        "    return ppl"
      ]
    },
    {
      "cell_type": "code",
      "execution_count": 20,
      "metadata": {
        "cellId": "8b689bobhkey04x7pabupj",
        "id": "Uy-UoL9umi6s",
        "colab": {
          "base_uri": "https://localhost:8080/"
        },
        "outputId": "c9b608ad-adf3-4ae8-dd14-90b8dab8521a"
      },
      "outputs": [
        {
          "output_type": "stream",
          "name": "stderr",
          "text": [
            "100%|██████████| 100/100 [00:00<00:00, 46556.82it/s]\n",
            "100%|██████████| 100/100 [00:00<00:00, 21688.32it/s]\n",
            "100%|██████████| 100/100 [00:00<00:00, 18930.78it/s]"
          ]
        },
        {
          "output_type": "stream",
          "name": "stdout",
          "text": [
            "Perplexities: ppx1=318.213 ppx3=1.520 ppx10=1.184\n"
          ]
        },
        {
          "output_type": "stream",
          "name": "stderr",
          "text": [
            "\n"
          ]
        }
      ],
      "source": [
        "lm1 = NGramLanguageModel(dummy_lines, n=1)\n",
        "lm3 = NGramLanguageModel(dummy_lines, n=3)\n",
        "lm10 = NGramLanguageModel(dummy_lines, n=10)\n",
        "\n",
        "ppx1 = perplexity(lm1, dummy_lines)\n",
        "ppx3 = perplexity(lm3, dummy_lines)\n",
        "ppx10 = perplexity(lm10, dummy_lines)\n",
        "ppx_missing = perplexity(lm3, ['the jabberwock , with eyes of flame , '])  # thanks, L. Carrol\n",
        "\n",
        "print(\"Perplexities: ppx1=%.3f ppx3=%.3f ppx10=%.3f\" % (ppx1, ppx3, ppx10))\n",
        "\n",
        "assert all(0 < ppx < 500 for ppx in (ppx1, ppx3, ppx10)), \"perplexity should be non-negative and reasonably small\"\n",
        "assert ppx1 > ppx3 > ppx10, \"higher N models should overfit and \"\n",
        "assert np.isfinite(ppx_missing) and ppx_missing > 10 ** 6, \"missing words should have large but finite perplexity. \" \\\n",
        "    \" Make sure you use min_logprob right\"\n",
        "assert np.allclose([ppx1, ppx3, ppx10], (318.2132342216302, 1.5199996213739575, 1.1838145037901249))"
      ]
    },
    {
      "cell_type": "markdown",
      "metadata": {
        "cellId": "ypc4lks4vs1li908fqi8",
        "id": "rRWe4k6Xmi6s"
      },
      "source": [
        "Now let's measure the actual perplexity: we'll split the data into train and test and score model on test data only."
      ]
    },
    {
      "cell_type": "code",
      "execution_count": 21,
      "metadata": {
        "cellId": "tjnehsem2lmijkg2lto4w",
        "id": "9NBKan1Imi6s",
        "colab": {
          "base_uri": "https://localhost:8080/"
        },
        "outputId": "6e617d2b-0e63-48b5-b642-68c6472919b0"
      },
      "outputs": [
        {
          "output_type": "stream",
          "name": "stderr",
          "text": [
            "100%|██████████| 30750/30750 [00:03<00:00, 9805.69it/s]\n"
          ]
        },
        {
          "output_type": "stream",
          "name": "stdout",
          "text": [
            "N = 1, Perplexity = 1832.23136\n"
          ]
        },
        {
          "output_type": "stream",
          "name": "stderr",
          "text": [
            "100%|██████████| 30750/30750 [00:06<00:00, 4598.05it/s]\n"
          ]
        },
        {
          "output_type": "stream",
          "name": "stdout",
          "text": [
            "N = 2, Perplexity = 85653987.28774\n"
          ]
        },
        {
          "output_type": "stream",
          "name": "stderr",
          "text": [
            "100%|██████████| 30750/30750 [00:12<00:00, 2412.70it/s]\n"
          ]
        },
        {
          "output_type": "stream",
          "name": "stdout",
          "text": [
            "N = 3, Perplexity = 61999196259043346743296.00000\n"
          ]
        }
      ],
      "source": [
        "from sklearn.model_selection import train_test_split\n",
        "train_lines, test_lines = train_test_split(lines, test_size=0.25, random_state=42)\n",
        "\n",
        "for n in (1, 2, 3):\n",
        "    lm = NGramLanguageModel(n=n, lines=train_lines)\n",
        "    ppx = perplexity(lm, test_lines)\n",
        "    print(\"N = %i, Perplexity = %.5f\" % (n, ppx))\n"
      ]
    },
    {
      "cell_type": "code",
      "execution_count": 22,
      "metadata": {
        "cellId": "38nfbfkpzgfxik8kccyt1l",
        "id": "i-EQWgbrmi6s"
      },
      "outputs": [],
      "source": [
        "# whoops, it just blew up :)"
      ]
    },
    {
      "cell_type": "markdown",
      "metadata": {
        "cellId": "oopn2o57wxm9vbxzycytce",
        "id": "i1FUgS5Dmi6s"
      },
      "source": [
        "### LM Smoothing\n",
        "\n",
        "The problem with our simple language model is that whenever it encounters an n-gram it has never seen before, it assigns it with the probabilitiy of 0. Every time this happens, perplexity explodes.\n",
        "\n",
        "To battle this issue, there's a technique called __smoothing__. The core idea is to modify counts in a way that prevents probabilities from getting too low. The simplest algorithm here is Additive smoothing (aka [Lapace smoothing](https://en.wikipedia.org/wiki/Additive_smoothing)):\n",
        "\n",
        "$$ P(w_t | prefix) = { Count(prefix, w_t) + \\delta \\over \\sum_{\\hat w} (Count(prefix, \\hat w) + \\delta) } $$\n",
        "\n",
        "If counts for a given prefix are low, additive smoothing will adjust probabilities to a more uniform distribution. Not that the summation in the denominator goes over _all words in the vocabulary_.\n",
        "\n",
        "Here's an example code we've implemented for you:"
      ]
    },
    {
      "cell_type": "code",
      "execution_count": 23,
      "metadata": {
        "cellId": "ioh26rlov6g8l2ssj1c8pm",
        "id": "zaqS4MMEmi6s"
      },
      "outputs": [],
      "source": [
        "class LaplaceLanguageModel(NGramLanguageModel):\n",
        "    \"\"\" this code is an example, no need to change anything \"\"\"\n",
        "    def __init__(self, lines, n, delta=1.0):\n",
        "        self.n = n\n",
        "        counts = count_ngrams(lines, self.n)\n",
        "        self.vocab = set(token for token_counts in counts.values() for token in token_counts)\n",
        "        self.probs = defaultdict(Counter)\n",
        "\n",
        "        for prefix in counts:\n",
        "            token_counts = counts[prefix]\n",
        "            total_count = sum(token_counts.values()) + delta * len(self.vocab)\n",
        "            self.probs[prefix] = {token: (token_counts[token] + delta) / total_count\n",
        "                                          for token in token_counts}\n",
        "    def get_possible_next_tokens(self, prefix):\n",
        "        token_probs = super().get_possible_next_tokens(prefix)\n",
        "        missing_prob_total = 1.0 - sum(token_probs.values())\n",
        "        missing_prob = missing_prob_total / max(1, len(self.vocab) - len(token_probs))\n",
        "        return {token: token_probs.get(token, missing_prob) for token in self.vocab}\n",
        "\n",
        "    def get_next_token_prob(self, prefix, next_token):\n",
        "        token_probs = super().get_possible_next_tokens(prefix)\n",
        "        if next_token in token_probs:\n",
        "            return token_probs[next_token]\n",
        "        else:\n",
        "            missing_prob_total = 1.0 - sum(token_probs.values())\n",
        "            missing_prob_total = max(0, missing_prob_total) # prevent rounding errors\n",
        "            return missing_prob_total / max(1, len(self.vocab) - len(token_probs))\n"
      ]
    },
    {
      "cell_type": "markdown",
      "metadata": {
        "cellId": "90vsann3920ie05r2blbmi",
        "execution_id": "3868303d-0bb9-42c6-a9a8-dcf485c8220c",
        "id": "SkzS-3y5mi6s"
      },
      "source": [
        "**Disclaimer**: the implementation above assumes all words unknown within a given context to be equally likely, *as well as the words outside of vocabulary*. Therefore, its' perplexity will be lower than it should when encountering such words. Therefore, comparing it with a model with fewer unknown words will not be fair. When implementing your own smoothing, you may handle this by adding a virtual `UNK` token of non-zero probability. Technically, this will result in a model where probabilities do not add up to $1$, but it is close enough for a practice excercise."
      ]
    },
    {
      "cell_type": "code",
      "execution_count": 24,
      "metadata": {
        "cellId": "3xvxkdxcmfqucruyt66mdc",
        "id": "lN2PiHiami6s",
        "colab": {
          "base_uri": "https://localhost:8080/"
        },
        "outputId": "0cf1922e-9cea-41d9-c8a3-c2abf46d3f9e"
      },
      "outputs": [
        {
          "output_type": "stream",
          "name": "stderr",
          "text": [
            "100%|██████████| 100/100 [00:00<00:00, 32012.70it/s]\n",
            "100%|██████████| 100/100 [00:00<00:00, 24153.78it/s]\n",
            "100%|██████████| 100/100 [00:00<00:00, 26817.80it/s]\n"
          ]
        }
      ],
      "source": [
        "#test that it's a valid probability model\n",
        "for n in (1, 2, 3):\n",
        "    dummy_lm = LaplaceLanguageModel(dummy_lines, n=n)\n",
        "    assert np.allclose(sum([dummy_lm.get_next_token_prob('a', w_i) for w_i in dummy_lm.vocab]), 1), \"I told you not to break anything! :)\""
      ]
    },
    {
      "cell_type": "code",
      "execution_count": null,
      "metadata": {
        "cellId": "j6zqa50koitjjri9ipd8ec",
        "id": "Ogt8B6Dcmi6s",
        "colab": {
          "base_uri": "https://localhost:8080/"
        },
        "outputId": "c40a2197-b87a-4d0c-fd9c-e1dd5a98227c"
      },
      "outputs": [
        {
          "output_type": "stream",
          "name": "stderr",
          "text": [
            "100%|██████████| 30750/30750 [00:03<00:00, 8464.66it/s]\n"
          ]
        },
        {
          "output_type": "stream",
          "name": "stdout",
          "text": [
            "N = 1, Perplexity = 1832.66878\n"
          ]
        },
        {
          "output_type": "stream",
          "name": "stderr",
          "text": [
            "100%|██████████| 30750/30750 [00:06<00:00, 5037.84it/s]\n"
          ]
        }
      ],
      "source": [
        "for n in (1, 2, 3):\n",
        "    lm = LaplaceLanguageModel(train_lines, n=n, delta=0.1)\n",
        "    ppx = perplexity(lm, test_lines)\n",
        "    print(\"N = %i, Perplexity = %.5f\" % (n, ppx))"
      ]
    },
    {
      "cell_type": "code",
      "execution_count": null,
      "metadata": {
        "cellId": "pjuqt30jcerwbz1ym9zv1",
        "id": "o2h-qbPWmi6s"
      },
      "outputs": [],
      "source": [
        "# optional: try to sample tokens from such a model"
      ]
    },
    {
      "cell_type": "markdown",
      "metadata": {
        "cellId": "3b8s1y9uls4fosu3yp28gg",
        "id": "90lOAt0rmi6s"
      },
      "source": [
        "### Kneser-Ney smoothing (2 points)\n",
        "\n",
        "Additive smoothing is simple, reasonably good but definitely not a State of The Art algorithm.\n",
        "\n",
        "\n",
        "Your final task in this notebook is to implement [Kneser-Ney](https://en.wikipedia.org/wiki/Kneser%E2%80%93Ney_smoothing) smoothing.\n",
        "\n",
        "It can be computed recurrently, for n>1:\n",
        "\n",
        "$$P_{kn}(w_t | prefix_{n-1}) = { \\max(0, Count(prefix_{n-1}, w_t) - \\delta) \\over \\sum_{\\hat w} Count(prefix_{n-1}, \\hat w)} + \\lambda_{prefix_{n-1}} \\cdot P_{kn}(w_t | prefix_{n-2})$$\n",
        "\n",
        "where\n",
        "- $prefix_{n-1}$ is a tuple of {n-1} previous tokens\n",
        "- $lambda_{prefix_{n-1}}$ is a normalization constant chosen so that probabilities add up to 1\n",
        "- Unigram $P_{kn}(w_t | prefix_{n-2})$ corresponds to Kneser Ney smoothing for {N-1}-gram language model.\n",
        "- Unigram $P_{kn}(w_t)$ is a special case: how likely it is to see x_t in an unfamiliar context\n",
        "\n",
        "See lecture slides or wiki for more detailed formulae.\n",
        "\n",
        "__Your task__ is to\n",
        "- implement `KneserNeyLanguageModel` class,\n",
        "- test it on 1-3 gram language models\n",
        "- find optimal (within reason) smoothing delta for 3-gram language model with Kneser-Ney smoothing"
      ]
    },
    {
      "cell_type": "code",
      "execution_count": 31,
      "metadata": {
        "cellId": "2ix7kzw02v30oye55322all",
        "id": "lhu078qEmi6s"
      },
      "outputs": [],
      "source": [
        "class KneserNeyLanguageModel:\n",
        "    \"\"\"Упрощенная реализация Kneser-Ney сглаживания\"\"\"\n",
        "    def __init__(self, lines, n, delta=0.75):\n",
        "        self.n = n\n",
        "        self.delta = delta\n",
        "\n",
        "\n",
        "        all_tokens = set()\n",
        "        for line in lines:\n",
        "            all_tokens.update(line.split())\n",
        "        all_tokens.update([UNK, EOS])\n",
        "        self.vocab = list(all_tokens)\n",
        "        self.counts = count_ngrams(lines, n)\n",
        "\n",
        "        if n == 1:\n",
        "            self.probs = self._compute_unigram_probs()\n",
        "        else:\n",
        "\n",
        "            self.lower_counts = count_ngrams(lines, n-1)\n",
        "            self.probs = self._compute_ngram_probs()\n",
        "\n",
        "    def _compute_unigram_probs(self):\n",
        "        \"\"\"Unigram Kneser-Ney - считаем сколько разных слов предшествуют каждому слову\"\"\"\n",
        "        probs = {}\n",
        "        continuation_counts = {}\n",
        "\n",
        "\n",
        "        for prefix, token_counts in self.counts.items():\n",
        "            for token in token_counts:\n",
        "                continuation_counts[token] = continuation_counts.get(token, 0) + 1\n",
        "\n",
        "        total_continuations = sum(continuation_counts.values())\n",
        "\n",
        "\n",
        "        for token in self.vocab:\n",
        "            count = continuation_counts.get(token, 0)\n",
        "            probs[token] = count / total_continuations if total_continuations > 0 else 0\n",
        "\n",
        "        return {(): probs}\n",
        "\n",
        "    def _compute_ngram_probs(self):\n",
        "        \"\"\"N-gram Kneser-Ney сглаживание\"\"\"\n",
        "        probs = defaultdict(dict)\n",
        "\n",
        "        for prefix, token_counts in self.counts.items():\n",
        "            total_count = sum(token_counts.values())\n",
        "\n",
        "\n",
        "            num_unique_next = len(token_counts)\n",
        "            lambda_prefix = (self.delta * num_unique_next) / total_count\n",
        "\n",
        "            continuation_probs = {}\n",
        "            total_continuations = 0\n",
        "\n",
        "\n",
        "            for token in self.vocab:\n",
        "\n",
        "                cont_count = sum(1 for lower_prefix in self.lower_counts if token in self.lower_counts[lower_prefix])\n",
        "                continuation_probs[token] = cont_count\n",
        "                total_continuations += cont_count\n",
        "\n",
        "            for token in continuation_probs:\n",
        "                continuation_probs[token] = continuation_probs[token] / total_continuations if total_continuations > 0 else 0\n",
        "\n",
        "            for token in self.vocab:\n",
        "                count = token_counts.get(token, 0)\n",
        "                discounted_prob = max(0, count - self.delta) / total_count if total_count > 0 else 0\n",
        "\n",
        "                cont_prob = continuation_probs[token]\n",
        "\n",
        "\n",
        "                probs[prefix][token] = discounted_prob + lambda_prefix * cont_prob\n",
        "\n",
        "        return probs\n",
        "\n",
        "    def get_possible_next_tokens(self, prefix):\n",
        "        \"\"\"Возвращает вероятности следующих токенов\"\"\"\n",
        "        prefix_tokens = prefix.split()\n",
        "        prefix_tokens = prefix_tokens[max(0, len(prefix_tokens) - self.n + 1):]\n",
        "        prefix_tokens = [UNK] * (self.n - 1 - len(prefix_tokens)) + prefix_tokens\n",
        "        prefix_tuple = tuple(prefix_tokens)\n",
        "\n",
        "        return self.probs.get(prefix_tuple, {})\n",
        "\n",
        "    def get_next_token_prob(self, prefix, next_token):\n",
        "        \"\"\"Возвращает вероятность конкретного следующего токена\"\"\"\n",
        "        return self.get_possible_next_tokens(prefix).get(next_token, 0)"
      ]
    },
    {
      "cell_type": "code",
      "execution_count": 32,
      "metadata": {
        "cellId": "lsk91832qbmdt7x1q0a8z4",
        "id": "FyVhP8Rkmi6s",
        "colab": {
          "base_uri": "https://localhost:8080/"
        },
        "outputId": "0a37952b-cadf-48ab-a93b-282eb879c7dd"
      },
      "outputs": [
        {
          "output_type": "stream",
          "name": "stderr",
          "text": [
            "100%|██████████| 100/100 [00:00<00:00, 41763.46it/s]\n",
            "100%|██████████| 100/100 [00:00<00:00, 20752.58it/s]\n",
            "100%|██████████| 100/100 [00:00<00:00, 34108.35it/s]\n",
            "100%|██████████| 100/100 [00:00<00:00, 16387.84it/s]\n",
            "100%|██████████| 100/100 [00:00<00:00, 23437.10it/s]\n"
          ]
        }
      ],
      "source": [
        "#test that it's a valid probability model\n",
        "for n in (1, 2, 3):\n",
        "    dummy_lm = KneserNeyLanguageModel(dummy_lines, n=n)\n",
        "    assert np.allclose(sum([dummy_lm.get_next_token_prob('a', w_i) for w_i in dummy_lm.vocab]), 1), \"I told you not to break anything! :)\""
      ]
    },
    {
      "cell_type": "code",
      "execution_count": null,
      "metadata": {
        "cellId": "pp3jtkk9annp1qkou58x1b",
        "id": "CYpTzEpOmi6w",
        "colab": {
          "base_uri": "https://localhost:8080/"
        },
        "outputId": "150eadff-829c-4ac7-9a64-316eb013626c"
      },
      "outputs": [
        {
          "output_type": "stream",
          "name": "stderr",
          "text": [
            "100%|██████████| 30750/30750 [00:04<00:00, 7115.75it/s]\n"
          ]
        },
        {
          "output_type": "stream",
          "name": "stdout",
          "text": [
            "N = 1, Perplexity = 114877.61238\n"
          ]
        },
        {
          "output_type": "stream",
          "name": "stderr",
          "text": [
            "100%|██████████| 30750/30750 [00:07<00:00, 4349.26it/s]\n",
            "100%|██████████| 30750/30750 [00:03<00:00, 9568.17it/s]\n"
          ]
        }
      ],
      "source": [
        "for n in (1, 2, 3):\n",
        "    lm = KneserNeyLanguageModel(train_lines, n=n, delta=0.75)\n",
        "    ppx = perplexity(lm, test_lines)\n",
        "    print(\"N = %i, Perplexity = %.5f\" % (n, ppx))"
      ]
    }
  ],
  "metadata": {
    "colab": {
      "provenance": []
    },
    "kernelspec": {
      "display_name": "Python 3 (ipykernel)",
      "language": "python",
      "name": "python3"
    },
    "language_info": {
      "codemirror_mode": {
        "name": "ipython",
        "version": 3
      },
      "file_extension": ".py",
      "mimetype": "text/x-python",
      "name": "python",
      "nbconvert_exporter": "python",
      "pygments_lexer": "ipython3",
      "version": "3.12.4"
    },
    "notebookId": "53997d2d-afb8-4477-8874-b6d46299f06c",
    "notebookPath": "seminar.ipynb"
  },
  "nbformat": 4,
  "nbformat_minor": 0
}